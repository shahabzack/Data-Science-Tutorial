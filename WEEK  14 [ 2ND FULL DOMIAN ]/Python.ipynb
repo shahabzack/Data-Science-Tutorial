{
 "cells": [
  {
   "cell_type": "markdown",
   "id": "e8690106",
   "metadata": {},
   "source": [
    "Lamda is a anonymous function  it have multiple arguments but only one function "
   ]
  },
  {
   "cell_type": "code",
   "execution_count": 5,
   "id": "e18e0eff",
   "metadata": {},
   "outputs": [
    {
     "name": "stdout",
     "output_type": "stream",
     "text": [
      "15\n"
     ]
    }
   ],
   "source": [
    "# multiplication \n",
    "\n",
    "val = lambda x,b: x * b\n",
    "print(val(5,3))"
   ]
  },
  {
   "cell_type": "markdown",
   "id": "aab92b19",
   "metadata": {},
   "source": [
    "# OOPS IN PYTHON"
   ]
  },
  {
   "cell_type": "code",
   "execution_count": 9,
   "id": "4280b5fa",
   "metadata": {},
   "outputs": [
    {
     "name": "stdout",
     "output_type": "stream",
     "text": [
      "Hello Mr shahab  your are 20 old !\n"
     ]
    }
   ],
   "source": [
    "class Person:\n",
    "    def __init__(self,name,age):\n",
    "        self.name = name\n",
    "        self.age = age\n",
    "        \n",
    "    def display(self):\n",
    "        return f\"Hello Mr {self.name}  your are {self.age} old !\"\n",
    "    \n",
    "    \n",
    "ob = Person('shahab',20)\n",
    "\n",
    "print(ob.display())"
   ]
  },
  {
   "cell_type": "code",
   "execution_count": 14,
   "id": "3c3e6415",
   "metadata": {},
   "outputs": [
    {
     "data": {
      "text/plain": [
       "' I make sound BOw Bowh'"
      ]
     },
     "execution_count": 14,
     "metadata": {},
     "output_type": "execute_result"
    }
   ],
   "source": [
    "# inheritance \n",
    "\n",
    "class Animal:\n",
    "    def speak(self):\n",
    "        return \"I make sound\"\n",
    "    \n",
    "class Dog(Animal):\n",
    "    def speak(self):\n",
    "        return \" I make sound BOw Bowh\"\n",
    "    \n",
    "\n",
    "ob = Dog()\n",
    "\n",
    "ob.speak()\n",
    "    \n"
   ]
  },
  {
   "cell_type": "code",
   "execution_count": 25,
   "id": "18fb6335",
   "metadata": {},
   "outputs": [
    {
     "name": "stdout",
     "output_type": "stream",
     "text": [
      "koo\n",
      "Meow\n",
      "14\n",
      "5\n"
     ]
    }
   ],
   "source": [
    "# polymorphism \n",
    "\n",
    "class Bird:\n",
    "    def speak(self):\n",
    "        return 'koo'\n",
    "    \n",
    "class Cat:\n",
    "    def speak(self):\n",
    "        return 'Meow'\n",
    "    \n",
    "def animal_sound(a):\n",
    "    print(a.speak())\n",
    "    \n",
    "b = Bird()\n",
    "c = Cat()\n",
    "\n",
    "animal_sound(b)\n",
    "animal_sound(c)\n",
    "\n",
    "\n",
    "\n",
    "# method overloading\n",
    "\n",
    "class Demo:\n",
    "    def add(self,a=0,b=0,c=0,d=0):\n",
    "        return a + b + c +d\n",
    "    \n",
    "    \n",
    "a = Demo()\n",
    "\n",
    "print(a.add(2,3,4,5))\n",
    "print(a.add(2,3))"
   ]
  },
  {
   "cell_type": "code",
   "execution_count": 33,
   "id": "101d455f",
   "metadata": {},
   "outputs": [
    {
     "name": "stdout",
     "output_type": "stream",
     "text": [
      "Deposit of $500 is done \n",
      "Your account balance is $1500\n"
     ]
    }
   ],
   "source": [
    "# Encapsulation  \n",
    "\n",
    "class BankAccount:\n",
    "    def __init__(self,balance):\n",
    "        self.__balance = balance # private\n",
    "        \n",
    "    def deposit(self,amount):\n",
    "        self.__balance += amount\n",
    "        print(f\"Deposit of ${amount} is done \")\n",
    "        \n",
    "        \n",
    "    \n",
    "    #   function get balance\n",
    "    \n",
    "    def get_bal(self):\n",
    "        return f\"Your account balance is ${self.__balance}\"\n",
    "        \n",
    "ac = BankAccount(1000)\n",
    "ac.deposit(500)\n",
    "# print(ac.self.__balance())       like this we cant get we need access only in inside the class  make function \n",
    "\n",
    "print(ac.get_bal())"
   ]
  },
  {
   "cell_type": "markdown",
   "id": "75bcd5ff",
   "metadata": {},
   "source": [
    "Destructor"
   ]
  },
  {
   "cell_type": "code",
   "execution_count": 36,
   "id": "f66865c5",
   "metadata": {},
   "outputs": [
    {
     "name": "stdout",
     "output_type": "stream",
     "text": [
      "Book Love the processs is created\n"
     ]
    }
   ],
   "source": [
    "class book:\n",
    "    def __init__(self,title):\n",
    "        self.title = title\n",
    "        print(f\"Book {self.title} is created\")\n",
    "        \n",
    "    def __del__(self):\n",
    "        print(f\"Book named {self.title} is being Destroyed\")\n",
    "        \n",
    "        \n",
    "b1 = book(\"Love the processs\")"
   ]
  },
  {
   "cell_type": "code",
   "execution_count": 37,
   "id": "f4d70fd5",
   "metadata": {},
   "outputs": [
    {
     "name": "stdout",
     "output_type": "stream",
     "text": [
      "Book named Love the processs is being Destroyed\n"
     ]
    }
   ],
   "source": [
    "del b1"
   ]
  },
  {
   "cell_type": "markdown",
   "id": "07926fc3",
   "metadata": {},
   "source": [
    " end of oops and distructor "
   ]
  },
  {
   "cell_type": "code",
   "execution_count": 43,
   "id": "601e0806",
   "metadata": {},
   "outputs": [
    {
     "name": "stdout",
     "output_type": "stream",
     "text": [
      "1\n",
      "2\n",
      "3\n"
     ]
    }
   ],
   "source": [
    "# Generator \n",
    "\n",
    "def gen(n):\n",
    "    for i in range(1,n+1):\n",
    "        yield i \n",
    "        \n",
    "g = gen(5)\n",
    "\n",
    "print(next(g))\n",
    "print(next(g))\n",
    "print(next(g))\n",
    "        \n"
   ]
  },
  {
   "cell_type": "code",
   "execution_count": 49,
   "id": "6c3edea1",
   "metadata": {},
   "outputs": [
    {
     "name": "stdout",
     "output_type": "stream",
     "text": [
      "1\n",
      "2\n",
      "3\n",
      "4\n",
      "5\n",
      "6\n",
      "7\n",
      "8\n",
      "9\n",
      "10\n"
     ]
    }
   ],
   "source": [
    "# Iterator \n",
    "\n",
    "class top10:\n",
    "    def __init__(self,end):\n",
    "        self.start = 1\n",
    "        self.end   = end\n",
    "        \n",
    "    def __iter__(self):\n",
    "        return self\n",
    "    \n",
    "    def __next__(self):\n",
    "        \n",
    "        if self.start <= self.end:\n",
    "            cur = self.start\n",
    "            self.start += 1\n",
    "            return cur\n",
    "        else:\n",
    "            raise StopIteration\n",
    "            \n",
    "            \n",
    "k = top10(10)\n",
    "\n",
    "for i in k:\n",
    "    print(i)"
   ]
  },
  {
   "cell_type": "markdown",
   "id": "78cc279f",
   "metadata": {},
   "source": [
    " Error Handling"
   ]
  },
  {
   "cell_type": "code",
   "execution_count": 56,
   "id": "7cc94f46",
   "metadata": {},
   "outputs": [
    {
     "name": "stdout",
     "output_type": "stream",
     "text": [
      "Cant do this operation \n",
      "Code completed\n"
     ]
    }
   ],
   "source": [
    "def div(a,b):\n",
    "    res = 0\n",
    "    try:\n",
    "        res = a / b\n",
    "    except:\n",
    "        print(\"Cant do this operation \")\n",
    "    else:\n",
    "        print(f\"The result is {res}\")\n",
    "        \n",
    "    finally:\n",
    "        print(\"Code completed\")\n",
    "        \n",
    "    return res\n",
    "\n",
    "a = div(5,0)"
   ]
  },
  {
   "cell_type": "markdown",
   "id": "7b63a3f2",
   "metadata": {},
   "source": [
    "# Decorator"
   ]
  },
  {
   "cell_type": "code",
   "execution_count": 5,
   "id": "5e1bd4bc",
   "metadata": {},
   "outputs": [
    {
     "name": "stdout",
     "output_type": "stream",
     "text": [
      "Hello shaheb\n"
     ]
    }
   ],
   "source": [
    "def outer(func):\n",
    "    def inner():\n",
    "        n = func()\n",
    "        return n + \"shaheb\"\n",
    "    return inner\n",
    "\n",
    "\n",
    "@outer\n",
    "def greet():\n",
    "    return \"Hello \"\n",
    "\n",
    "\n",
    "print(greet())"
   ]
  },
  {
   "cell_type": "markdown",
   "id": "d047fd4d",
   "metadata": {},
   "source": [
    "# LIST "
   ]
  },
  {
   "cell_type": "code",
   "execution_count": 10,
   "id": "0563ed1d",
   "metadata": {},
   "outputs": [
    {
     "name": "stdout",
     "output_type": "stream",
     "text": [
      "Max-product is :  20\n"
     ]
    }
   ],
   "source": [
    "li = [2, 3, 5, -1, 4]\n",
    "res = []\n",
    "for i in range(len(li)):\n",
    "    for j in range(i+1,len(li)):\n",
    "        res.append(li[i] * li[j])\n",
    "        \n",
    "max_product = max(res)\n",
    "print(\"Max-product is : \",max_product)"
   ]
  },
  {
   "cell_type": "code",
   "execution_count": 25,
   "id": "4b9bfe54",
   "metadata": {},
   "outputs": [
    {
     "data": {
      "text/plain": [
       "[4, 5, 1, 2, 3]"
      ]
     },
     "execution_count": 25,
     "metadata": {},
     "output_type": "execute_result"
    }
   ],
   "source": [
    "li = [1, 2, 3, 4, 5]\n",
    "n  = 2\n",
    "\n",
    "res = []\n",
    "\n",
    "res.extend(li[-n:])\n",
    "res.extend(li[:-n])\n",
    "res"
   ]
  },
  {
   "cell_type": "code",
   "execution_count": 27,
   "id": "3d0a232e",
   "metadata": {},
   "outputs": [
    {
     "name": "stdout",
     "output_type": "stream",
     "text": [
      "{1: [1, 1], 3: [3, 3, 3], 2: [2, 2], 4: [4]}\n"
     ]
    }
   ],
   "source": [
    "li = [1, 3, 2, 3, 1, 3, 4, 2]\n",
    "dict = {}\n",
    "\n",
    "for i in li:\n",
    "    if i in dict:\n",
    "        dict[i].append(i)\n",
    "    else:\n",
    "        dict[i] = [i]\n",
    "        \n",
    "        \n",
    "print(dict)\n",
    "\n"
   ]
  },
  {
   "cell_type": "code",
   "execution_count": 21,
   "id": "05bf3c34",
   "metadata": {},
   "outputs": [
    {
     "name": "stdout",
     "output_type": "stream",
     "text": [
      "[1, 4, 27, 16, 125]\n"
     ]
    }
   ],
   "source": [
    "li = [x **2 if x% 2 ==0 else x **3 for x in range(1,6) ]\n",
    "print(li)"
   ]
  },
  {
   "cell_type": "code",
   "execution_count": null,
   "id": "d57c48d2",
   "metadata": {},
   "outputs": [],
   "source": []
  }
 ],
 "metadata": {
  "kernelspec": {
   "display_name": "Python 3 (ipykernel)",
   "language": "python",
   "name": "python3"
  },
  "language_info": {
   "codemirror_mode": {
    "name": "ipython",
    "version": 3
   },
   "file_extension": ".py",
   "mimetype": "text/x-python",
   "name": "python",
   "nbconvert_exporter": "python",
   "pygments_lexer": "ipython3",
   "version": "3.11.5"
  }
 },
 "nbformat": 4,
 "nbformat_minor": 5
}
