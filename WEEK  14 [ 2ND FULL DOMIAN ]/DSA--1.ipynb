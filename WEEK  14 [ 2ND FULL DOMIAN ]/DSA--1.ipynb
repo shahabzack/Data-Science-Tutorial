{
 "cells": [
  {
   "cell_type": "markdown",
   "id": "e5bcb325",
   "metadata": {},
   "source": [
    "## DSA WEEK- 1"
   ]
  },
  {
   "cell_type": "markdown",
   "id": "dc73f4c2",
   "metadata": {},
   "source": [
    "## SINGLE LINKED LIST"
   ]
  },
  {
   "cell_type": "code",
   "execution_count": null,
   "id": "20a41c91",
   "metadata": {},
   "outputs": [],
   "source": [
    "class Node:\n",
    "    def __init__(self,data):\n",
    "        self.data = data\n",
    "        self.next = None\n",
    "        \n",
    "class LinkedList:\n",
    "    def __init__(self):\n",
    "        self.head = None\n",
    "        \n",
    "    def append(self,data):\n",
    "        node = Node(data)\n",
    "        if self.head is None:\n",
    "            self.head = node\n",
    "            return\n",
    "        \n",
    "        last = self.head\n",
    "        while last.next:\n",
    "            last = last.next\n",
    "        last.next = node\n",
    "        \n",
    "        \n",
    "    def display(self):\n",
    "        cur = self.head\n",
    "        while cur:\n",
    "            print(cur.data,end=\"->\")\n",
    "            cur = cur.next\n",
    "        print(\"None\")\n",
    "        \n",
    "        \n",
    "sl = LinkedList()\n",
    "sl.append(1)\n",
    "sl.append(2)\n",
    "sl.append(5)\n",
    "sl.append(7)\n",
    "sl.display()\n",
    "            "
   ]
  },
  {
   "cell_type": "markdown",
   "id": "ce342fad",
   "metadata": {},
   "source": [
    "####  inserting and deleting"
   ]
  },
  {
   "cell_type": "code",
   "execution_count": null,
   "id": "8a1f6491",
   "metadata": {},
   "outputs": [],
   "source": [
    "class Node:\n",
    "    def __init__(self,data):\n",
    "        self.data = data\n",
    "        self.next = None\n",
    "        \n",
    "class LinkedList:\n",
    "    def __init__(self):\n",
    "        self.head = None\n",
    "    \n",
    "    def append(self,data):\n",
    "        new_node = Node(data)\n",
    "        if self.head is None:\n",
    "            self.head = new_node\n",
    "            return\n",
    "        \n",
    "        last = self.head\n",
    "        while last.next:\n",
    "            last = last.next\n",
    "        last.next = new_node\n",
    "        \n",
    "        \n",
    "    \n",
    "    \n",
    "    def delete(self,key):\n",
    "        cur = self.head\n",
    "        \n",
    "        # first node\n",
    "        if self.head and cur.data == key:\n",
    "            self.head = cur.next\n",
    "            return\n",
    "        \n",
    "        # other node delete\n",
    "        prev = None\n",
    "        while cur and cur.data != key:\n",
    "            prev = cur\n",
    "            cur = cur.next\n",
    "            \n",
    "        if cur is None:\n",
    "            print(\"Node not found\")\n",
    "            return\n",
    "        \n",
    "        prev.next = cur.next\n",
    "        \n",
    "        \n",
    "    def display(self):\n",
    "        cur = self.head\n",
    "        while cur:\n",
    "            print(cur.data,end='-->')\n",
    "            cur = cur.next\n",
    "        print(\"None\")\n",
    "        \n",
    "        \n",
    "sl = LinkedList()\n",
    "sl.append(10)\n",
    "sl.append(12)\n",
    "sl.append(13)\n",
    "sl.append(25)\n",
    "sl.append(56)\n",
    "print(\"List after Insert \")\n",
    "sl.display()\n",
    "print(\"After delete Operation\")\n",
    "sl.delete(56)\n",
    "sl.display()\n",
    "        \n",
    "        \n",
    "        "
   ]
  },
  {
   "cell_type": "markdown",
   "id": "43362009",
   "metadata": {},
   "source": [
    "Removing Duplicates "
   ]
  },
  {
   "cell_type": "code",
   "execution_count": null,
   "id": "ecd4826b",
   "metadata": {},
   "outputs": [],
   "source": [
    "class Node:\n",
    "    def __init__(self,data):\n",
    "        self.data = data\n",
    "        self.next = None\n",
    "        \n",
    "class LinkedList:\n",
    "    def __init__(self):\n",
    "        self.head = None\n",
    "        \n",
    "    def append(self,data):\n",
    "        new_node = Node(data)\n",
    "        if self.head is None:\n",
    "            self.head = new_node\n",
    "            return\n",
    "        last = self.head\n",
    "        while last.next:\n",
    "            last = last.next\n",
    "        last.next = new_node\n",
    "        \n",
    "        \n",
    "       #duplicates\n",
    "    def duplicate(self):\n",
    "        cur = self.head\n",
    "        while cur:\n",
    "            checking = cur\n",
    "            while checking.next:\n",
    "                if checking.next.data == cur.data:\n",
    "                    checking.next = checking.next.next\n",
    "                else:\n",
    "                    checking = checking.next\n",
    "            cur = cur.next\n",
    "        \n",
    "        \n",
    "        \n",
    "    def display(self):\n",
    "        cur = self.head\n",
    "        while cur:\n",
    "            print(cur.data,end=\"-->\")\n",
    "            cur = cur.next\n",
    "        print(\"None\")\n",
    "        \n",
    "sl = LinkedList()\n",
    "sl.append(45)\n",
    "sl.append(46)\n",
    "sl.append(48)\n",
    "sl.append(49)\n",
    "sl.append(49)\n",
    "sl.append(45)\n",
    "print(\"After Insert\")\n",
    "sl.display()\n",
    "print(\"After Removing Duplicates\")\n",
    "sl.duplicate()\n",
    "sl.display()"
   ]
  },
  {
   "cell_type": "markdown",
   "id": "4b418009",
   "metadata": {},
   "source": [
    "# Double Linked List"
   ]
  },
  {
   "cell_type": "code",
   "execution_count": 4,
   "id": "066b3491",
   "metadata": {},
   "outputs": [
    {
     "name": "stdout",
     "output_type": "stream",
     "text": [
      "23<-->12<-->87<-->543<-->13<-->None\n"
     ]
    }
   ],
   "source": [
    "class Node:\n",
    "    def __init__(self,data):\n",
    "        self.data = data\n",
    "        self.next = None\n",
    "        self.prev = None\n",
    "        \n",
    "class doubleLinked:\n",
    "    def __init__(self):\n",
    "        self.head = None\n",
    "        \n",
    "    def append(self,data):\n",
    "        new_node = Node(data)\n",
    "        if self.head is None:\n",
    "            self.head = new_node\n",
    "            return\n",
    "        last = self.head\n",
    "        while last.next:\n",
    "            last = last.next\n",
    "        last.next = new_node\n",
    "        new_node.prev = last\n",
    "        \n",
    "        \n",
    "    def display(self):\n",
    "        cur = self.head\n",
    "        while cur:\n",
    "            print(cur.data,end=\"<-->\")\n",
    "            cur = cur.next\n",
    "        print(\"None\")\n",
    "        \n",
    "        \n",
    "        \n",
    "dl = doubleLinked()\n",
    "dl.append(23)\n",
    "dl.append(12)\n",
    "dl.append(87)\n",
    "dl.append(543)\n",
    "dl.append(13)\n",
    "dl.display()\n",
    "        \n",
    "        "
   ]
  },
  {
   "cell_type": "markdown",
   "id": "8a263715",
   "metadata": {},
   "source": [
    "#### Reverse a double linked list"
   ]
  },
  {
   "cell_type": "code",
   "execution_count": 1,
   "id": "3d05321b",
   "metadata": {},
   "outputs": [
    {
     "name": "stdout",
     "output_type": "stream",
     "text": [
      "Orginal list\n",
      "23<-->12<-->87<-->543<-->13<-->None\n",
      "After Reverse\n",
      "13<-->543<-->87<-->12<-->23<-->None\n"
     ]
    }
   ],
   "source": [
    "class Node:\n",
    "    def __init__(self,data):\n",
    "        self.data = data\n",
    "        self.next = None\n",
    "        self.prev = None\n",
    "        \n",
    "class doubleLink:\n",
    "    def __init__(self):\n",
    "        self.head = None\n",
    "        \n",
    "    def append(self,data):\n",
    "        new_node = Node(data)\n",
    "        if self.head is None:\n",
    "            self.head = new_node\n",
    "            return\n",
    "        last = self.head\n",
    "        while last.next:\n",
    "            last = last.next\n",
    "        last.next = new_node\n",
    "        new_node.prev = last\n",
    "        \n",
    "        \n",
    "        \n",
    "     # Reverse code \n",
    "    \n",
    "    def reverse(self):\n",
    "        cur = self.head\n",
    "        while cur:\n",
    "            cur.next,cur.prev = cur.prev,cur.next\n",
    "            \n",
    "            if cur.prev is None:\n",
    "                self.head = cur\n",
    "            cur = cur.prev\n",
    "        \n",
    "        \n",
    "    def display(self):\n",
    "        cur = self.head\n",
    "        while cur:\n",
    "            print(cur.data,end='<-->')\n",
    "            cur = cur.next\n",
    "        print(\"None\")\n",
    "        \n",
    "        \n",
    "dl = doubleLink()\n",
    "dl.append(23)\n",
    "dl.append(12)\n",
    "dl.append(87)\n",
    "dl.append(543)\n",
    "dl.append(13)\n",
    "print(\"Orginal list\")\n",
    "dl.display()\n",
    "print(\"After Reverse\")\n",
    "dl.reverse()\n",
    "dl.display()\n",
    "        "
   ]
  },
  {
   "cell_type": "markdown",
   "id": "d21e048f",
   "metadata": {},
   "source": [
    "# Recursion"
   ]
  },
  {
   "cell_type": "code",
   "execution_count": 5,
   "id": "6d0ce8ce",
   "metadata": {},
   "outputs": [
    {
     "name": "stdout",
     "output_type": "stream",
     "text": [
      "120\n"
     ]
    }
   ],
   "source": [
    "# 1 Factorial \n",
    "\n",
    "def fact(n):\n",
    "    if n == 0 or n == 1:\n",
    "        return 1\n",
    "    return n * fact(n-1)\n",
    "\n",
    "print(fact(5))"
   ]
  },
  {
   "cell_type": "code",
   "execution_count": 6,
   "id": "efc626e8",
   "metadata": {},
   "outputs": [
    {
     "name": "stdout",
     "output_type": "stream",
     "text": [
      "21\n"
     ]
    }
   ],
   "source": [
    "# 2 Fibonacci\n",
    "\n",
    "def fib(n):\n",
    "    if n == 0:\n",
    "        return 0\n",
    "    if n == 1:\n",
    "        return 1\n",
    "    \n",
    "    return fib(n-1) + fib(n-2)\n",
    "\n",
    "print(fib(8))"
   ]
  },
  {
   "cell_type": "code",
   "execution_count": 7,
   "id": "7f95afd6",
   "metadata": {},
   "outputs": [
    {
     "name": "stdout",
     "output_type": "stream",
     "text": [
      "15\n"
     ]
    }
   ],
   "source": [
    "#3 sum of a list\n",
    "\n",
    "li = [1,2,3,4,5]\n",
    "\n",
    "def sum_a(arr):\n",
    "    if len(arr) ==0:\n",
    "        return 0\n",
    "    return arr[0] + sum_a(arr[1:])\n",
    "\n",
    "print(sum_a(li))"
   ]
  },
  {
   "cell_type": "code",
   "execution_count": 12,
   "id": "fe473c82",
   "metadata": {},
   "outputs": [
    {
     "name": "stdout",
     "output_type": "stream",
     "text": [
      "Orginal   :  Hello Mr\n",
      "Reversed  :  rM olleH\n"
     ]
    }
   ],
   "source": [
    "#4  Reverse a String\n",
    "\n",
    "st = \"Hello Mr\"\n",
    "\n",
    "def st_rev(st):\n",
    "    if len(st) == 0:\n",
    "        return st\n",
    "    return st_rev(st[1:])+ st[0]\n",
    "print(\"Orginal   : \",st)\n",
    "print(\"Reversed  : \",st_rev(st))"
   ]
  },
  {
   "cell_type": "markdown",
   "id": "830667bf",
   "metadata": {},
   "source": [
    "# Linear Search "
   ]
  },
  {
   "cell_type": "code",
   "execution_count": 19,
   "id": "e4c949dc",
   "metadata": {},
   "outputs": [
    {
     "name": "stdout",
     "output_type": "stream",
     "text": [
      "6\n"
     ]
    }
   ],
   "source": [
    "arr = [1,2,3,4,65,765,343,43]\n",
    "t = 343\n",
    "\n",
    "def linear_search(arr,t):\n",
    "    for i,v in enumerate(arr):\n",
    "        if  v == t:\n",
    "            return i\n",
    "        \n",
    "    return \"Value not found\"\n",
    "        \n",
    "print(linear_search(arr,t))\n",
    "        \n",
    "        \n",
    "        "
   ]
  },
  {
   "cell_type": "markdown",
   "id": "422e436c",
   "metadata": {},
   "source": [
    "# Binary Search "
   ]
  },
  {
   "cell_type": "code",
   "execution_count": 24,
   "id": "2e86ff26",
   "metadata": {},
   "outputs": [
    {
     "name": "stdout",
     "output_type": "stream",
     "text": [
      "arr  : 6\n"
     ]
    }
   ],
   "source": [
    "arr = [1,2,3,4,65,765,343,43]\n",
    "t = 343\n",
    "arr.sort()\n",
    "def Binary_search(arr,t):\n",
    "    left = 0\n",
    "    right = len(arr) -1\n",
    "    \n",
    "    while left <= right:\n",
    "        mid = (left+right) //2\n",
    "        \n",
    "        if arr[mid] == t:\n",
    "            return mid\n",
    "        elif arr[mid] < t:\n",
    "            left = mid + 1\n",
    "        else:\n",
    "            right = mid - 1\n",
    "            \n",
    "    return \"Not found\"\n",
    "\n",
    "\n",
    "print(\"arr  :\",Binary_search(arr,t))\n",
    "    "
   ]
  },
  {
   "cell_type": "markdown",
   "id": "7dc154a5",
   "metadata": {},
   "source": [
    "# Binary Search with Recusrsion"
   ]
  },
  {
   "cell_type": "code",
   "execution_count": 33,
   "id": "0b18cf0f",
   "metadata": {},
   "outputs": [
    {
     "name": "stdout",
     "output_type": "stream",
     "text": [
      "6\n"
     ]
    }
   ],
   "source": [
    "def b_search(arr,left,right,target):\n",
    "    if left > right:\n",
    "        return 'value not found'\n",
    "    \n",
    "    mid = (left + right ) // 2\n",
    "    \n",
    "    if arr[mid] == target:\n",
    "        return mid\n",
    "    elif arr[mid] < target:\n",
    "        return b_search(arr,mid+1,right,target)\n",
    "    else:\n",
    "        return b_search(arr,left,mid-1,target)\n",
    "    \n",
    "arr = [1,2,3,4,65,765,343,43]\n",
    "arr.sort()\n",
    "target = 343\n",
    "left = 0\n",
    "right = len(arr)-1\n",
    "\n",
    "print(b_search(arr,left,right,target))"
   ]
  },
  {
   "cell_type": "code",
   "execution_count": null,
   "id": "23e6d33c",
   "metadata": {},
   "outputs": [],
   "source": []
  }
 ],
 "metadata": {
  "kernelspec": {
   "display_name": "Python 3 (ipykernel)",
   "language": "python",
   "name": "python3"
  },
  "language_info": {
   "codemirror_mode": {
    "name": "ipython",
    "version": 3
   },
   "file_extension": ".py",
   "mimetype": "text/x-python",
   "name": "python",
   "nbconvert_exporter": "python",
   "pygments_lexer": "ipython3",
   "version": "3.11.5"
  }
 },
 "nbformat": 4,
 "nbformat_minor": 5
}
