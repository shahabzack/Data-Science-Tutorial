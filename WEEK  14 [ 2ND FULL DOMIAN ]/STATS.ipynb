{
 "cells": [
  {
   "cell_type": "markdown",
   "id": "0938a1bb",
   "metadata": {},
   "source": [
    "# Measure of Central Tendency"
   ]
  },
  {
   "cell_type": "code",
   "execution_count": 12,
   "id": "120eb4f6",
   "metadata": {},
   "outputs": [],
   "source": [
    "data = [25, 32, 38, 41, 41, 47, 49, 53, 53, 54, 54, 55, 55, 57, 58, 59, 60, 62, 62, 63, 64, 64, 64, 65, 66, 67, 67, 68]"
   ]
  },
  {
   "cell_type": "code",
   "execution_count": 13,
   "id": "3b247e81",
   "metadata": {},
   "outputs": [
    {
     "name": "stdout",
     "output_type": "stream",
     "text": [
      "Mean of Above data is :  55.107142857142854\n"
     ]
    }
   ],
   "source": [
    "mean = sum(data)/len(data)\n",
    "print(\"Mean of Above data is : \",mean)"
   ]
  },
  {
   "cell_type": "code",
   "execution_count": 17,
   "id": "25ddbdce",
   "metadata": {},
   "outputs": [
    {
     "name": "stdout",
     "output_type": "stream",
     "text": [
      "Median of Above data :  57.5\n"
     ]
    }
   ],
   "source": [
    "data.sort()\n",
    "n = len(data)\n",
    "mid = n //2\n",
    "if n % 2 == 0:\n",
    "    median = (data[mid-1] + data[mid] ) / 2\n",
    "else:\n",
    "    median = data[mid]\n",
    "    \n",
    "print(\"Median of Above data : \",median)"
   ]
  },
  {
   "cell_type": "code",
   "execution_count": 10,
   "id": "76114ee1",
   "metadata": {},
   "outputs": [
    {
     "name": "stdout",
     "output_type": "stream",
     "text": [
      "Mode of Above data is :  64\n"
     ]
    }
   ],
   "source": [
    "count = {}\n",
    "\n",
    "for i in data:\n",
    "    if i in count:\n",
    "        count[i] +=1\n",
    "    else:\n",
    "        count[i] = 1\n",
    "\n",
    "max_count = max(count.values())\n",
    "\n",
    "mode = [k for k,v in count.items() if v == max_count]\n",
    "\n",
    "print(\"Mode of Above data is : \",mode[0])"
   ]
  },
  {
   "cell_type": "markdown",
   "id": "c53ffc8d",
   "metadata": {},
   "source": [
    "# Measure of Variability"
   ]
  },
  {
   "cell_type": "code",
   "execution_count": 3,
   "id": "0ddb64fc",
   "metadata": {},
   "outputs": [],
   "source": [
    "data = [10, 15, 20, 25, 30, 35, 40, 45, 50, 55]"
   ]
  },
  {
   "cell_type": "code",
   "execution_count": 4,
   "id": "8f4d5083",
   "metadata": {},
   "outputs": [
    {
     "name": "stdout",
     "output_type": "stream",
     "text": [
      "Range is : 45\n"
     ]
    }
   ],
   "source": [
    "# Range\n",
    "min_val = min(data)\n",
    "max_val = max(data)\n",
    "range_is = max_val - min_val\n",
    "\n",
    "print(\"Range is :\",range_is)"
   ]
  },
  {
   "cell_type": "code",
   "execution_count": 5,
   "id": "ca2ca3e7",
   "metadata": {},
   "outputs": [
    {
     "name": "stdout",
     "output_type": "stream",
     "text": [
      "Varience is :  206.25\n",
      "STD is :  14.361406616345072\n"
     ]
    }
   ],
   "source": [
    "# Varience \n",
    "mean = sum(data) / len(data)\n",
    "dif_mean = [(x  -mean) ** 2 for x in data]\n",
    "varience = sum(dif_mean) / len(data)\n",
    "print(\"Varience is : \",varience)\n",
    "\n",
    "#STD is \n",
    "\n",
    "std = varience ** 0.5\n",
    "print(\"STD is : \",std)"
   ]
  },
  {
   "cell_type": "code",
   "execution_count": 10,
   "id": "8224ffee",
   "metadata": {},
   "outputs": [
    {
     "name": "stdout",
     "output_type": "stream",
     "text": [
      "IQR is  :  25.0\n"
     ]
    }
   ],
   "source": [
    "# IQR \n",
    "data.sort()\n",
    "n = len(data)\n",
    "mid = n //2 \n",
    "\n",
    "if n % 2 == 0:\n",
    "    q1 = (data[mid // 2 -1 ] + data[mid // 2 ]) / 2\n",
    "else:\n",
    "    q1 = data[mid // 2]\n",
    "    \n",
    "    \n",
    "if n % 2 == 0:\n",
    "    q3 = (data[mid + mid // 2-1 ] + data[mid +mid // 2]) / 2\n",
    "else:\n",
    "    q3 = data[mid +mid // 2+1]\n",
    "              \n",
    "\n",
    "iqr = q3 - q1\n",
    "\n",
    "print(\"IQR is  : \",q3 - q1)"
   ]
  },
  {
   "cell_type": "markdown",
   "id": "71055ed9",
   "metadata": {},
   "source": [
    "# Correlation"
   ]
  },
  {
   "cell_type": "code",
   "execution_count": 11,
   "id": "b3fd1adb",
   "metadata": {},
   "outputs": [],
   "source": [
    "# Pearsion Correlation"
   ]
  },
  {
   "cell_type": "code",
   "execution_count": 6,
   "id": "75df9ab7",
   "metadata": {},
   "outputs": [
    {
     "name": "stdout",
     "output_type": "stream",
     "text": [
      "Covarience is :  50.0\n",
      "Pearson :  0.2\n"
     ]
    }
   ],
   "source": [
    "X = [10, 15, 20, 25, 30]\n",
    "Y = [20, 25, 30, 35, 40]\n",
    "\n",
    "mean_x = sum(X) / len(X)\n",
    "mean_y = sum(Y) / len(Y)\n",
    "\n",
    "cov = 0 \n",
    "for i in range(len(X)):\n",
    "    cov += (X[i] - mean_x) * (Y[i] - mean_y)\n",
    "covarience = cov / len(X)\n",
    "print(\"Covarience is : \",covarience)\n",
    "\n",
    "dev_x = [(x - mean_x) ** 2 for x in X] \n",
    "dev_y = [(y - mean_y) ** 2 for y in Y]\n",
    "\n",
    "deno = (sum(dev_x)**0.5) * (sum(dev_y)**0.5)\n",
    "\n",
    "per = (covarience / deno)\n",
    "\n",
    "print(\"Pearson : \",per)\n",
    "\n"
   ]
  },
  {
   "cell_type": "markdown",
   "id": "04ad80c0",
   "metadata": {},
   "source": [
    "# Covarience "
   ]
  },
  {
   "cell_type": "code",
   "execution_count": 8,
   "id": "714f4016",
   "metadata": {},
   "outputs": [
    {
     "name": "stdout",
     "output_type": "stream",
     "text": [
      "Covarience :  50.0\n"
     ]
    }
   ],
   "source": [
    "X = [10, 15, 20, 25, 30]\n",
    "Y = [20, 25, 30, 35, 40]\n",
    "\n",
    "mean_x = sum(X) / len(X)\n",
    "mean_y = sum(Y) / len(Y)\n",
    "\n",
    "cov = 0\n",
    "for i in range(len(X)):\n",
    "    cov += (X[i] - mean_x) * (Y[i]- mean_y)\n",
    "    \n",
    "covarience = cov /len(X)\n",
    "print(\"Covarience : \",covarience)"
   ]
  },
  {
   "cell_type": "markdown",
   "id": "7bc83649",
   "metadata": {},
   "source": [
    "# Hypothesis Testing"
   ]
  },
  {
   "cell_type": "code",
   "execution_count": null,
   "id": "9d413051",
   "metadata": {},
   "outputs": [],
   "source": []
  }
 ],
 "metadata": {
  "kernelspec": {
   "display_name": "Python 3 (ipykernel)",
   "language": "python",
   "name": "python3"
  },
  "language_info": {
   "codemirror_mode": {
    "name": "ipython",
    "version": 3
   },
   "file_extension": ".py",
   "mimetype": "text/x-python",
   "name": "python",
   "nbconvert_exporter": "python",
   "pygments_lexer": "ipython3",
   "version": "3.11.5"
  }
 },
 "nbformat": 4,
 "nbformat_minor": 5
}
