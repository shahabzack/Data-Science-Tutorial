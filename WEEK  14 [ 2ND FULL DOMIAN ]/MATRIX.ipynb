{
 "cells": [
  {
   "cell_type": "markdown",
   "id": "bd325556",
   "metadata": {},
   "source": [
    "Concepts of Matrix\n",
    "Matrix representations, transformation\n",
    "Dot Product\n",
    "Eigenvalues\n",
    "Eigenvectors etc.\n",
    "Matrix Operations\n",
    "Matrix types\n"
   ]
  },
  {
   "cell_type": "code",
   "execution_count": 10,
   "id": "621b8e86",
   "metadata": {},
   "outputs": [
    {
     "name": "stdout",
     "output_type": "stream",
     "text": [
      "[[11, 22, 33], [44, 55, 66]]\n"
     ]
    }
   ],
   "source": [
    "m1 = [\n",
    "    \n",
    "    [1,2,3],\n",
    "    [4,5,6]\n",
    "]\n",
    "\n",
    "m2 = [\n",
    "    [10,20,30],\n",
    "    [40,50,60]\n",
    "]\n",
    "\n",
    "res = []\n",
    "for i in range(len(m1)):\n",
    "    row = []\n",
    "    for j in range(len(m1[0])):\n",
    "        row.append(m1[i][j] + m2[i][j])\n",
    "    res.append(row)\n",
    "    \n",
    "print(res)\n",
    "        \n",
    "    "
   ]
  },
  {
   "cell_type": "markdown",
   "id": "64247096",
   "metadata": {},
   "source": [
    "With using numpy"
   ]
  },
  {
   "cell_type": "code",
   "execution_count": 12,
   "id": "036c3faf",
   "metadata": {},
   "outputs": [
    {
     "name": "stdout",
     "output_type": "stream",
     "text": [
      "[[11 22 33]\n",
      " [44 55 66]]\n"
     ]
    }
   ],
   "source": [
    "import numpy  as np\n",
    "\n",
    "m1 = np.array([[1,2,3],[4,5,6]])\n",
    "m2 = np.array([[10,20,30],[40,50,60]])\n",
    "\n",
    "res = m1 + m2\n",
    "\n",
    "print(res)"
   ]
  },
  {
   "cell_type": "code",
   "execution_count": 17,
   "id": "733aca3e",
   "metadata": {},
   "outputs": [
    {
     "name": "stdout",
     "output_type": "stream",
     "text": [
      "Orginal matrix :  [[21, 23, 21], [3, 2, 12]]\n",
      "Scalar multiple of 3 is :  [[63, 69, 63], [9, 6, 36]]\n"
     ]
    }
   ],
   "source": [
    "# Scalar multiplication \n",
    "\n",
    "m = [[21,23,21],[3,2,12]]\n",
    "\n",
    "print(\"Orginal matrix : \",m)\n",
    "\n",
    "res = []\n",
    "for i in range(len(m)):\n",
    "    row = []\n",
    "    for j in range(len(m[0])):\n",
    "        row.append(m[i][j] * 3)\n",
    "    res.append(row)\n",
    "    \n",
    "print(\"Scalar multiple of 3 is : \",res)"
   ]
  },
  {
   "cell_type": "code",
   "execution_count": 22,
   "id": "2bdf98f5",
   "metadata": {},
   "outputs": [
    {
     "name": "stdout",
     "output_type": "stream",
     "text": [
      "Orginal matrix :  [[11, 12, 13], [14, 15, 16]]\n",
      "Transpose matrix : [[11, 14], [12, 15], [13, 16]]\n"
     ]
    }
   ],
   "source": [
    "# Transpose matrix \n",
    "\n",
    "m = [\n",
    "    [11,12,13],\n",
    "    [14,15,16]\n",
    "]\n",
    "\n",
    "\n",
    "t = []\n",
    "\n",
    "for j in range(len(m[0])):\n",
    "    row = []\n",
    "    for i in range(len(m)):\n",
    "        row.append(m[i][j])\n",
    "    t.append(row)\n",
    "    \n",
    "print(\"Orginal matrix : \",m)\n",
    "print(\"Transpose matrix :\",t)"
   ]
  },
  {
   "cell_type": "code",
   "execution_count": 25,
   "id": "20c1c236",
   "metadata": {},
   "outputs": [
    {
     "name": "stdout",
     "output_type": "stream",
     "text": [
      "Determinant of 2x2 matrix is :  -2\n",
      "Determinant of 3x3 matrix is :  0\n"
     ]
    }
   ],
   "source": [
    "# Determinant\n",
    "\n",
    "mat_2x2 = [\n",
    "    [1,2],\n",
    "    [3,4]\n",
    "]\n",
    "\n",
    "\n",
    "mat_3x3 = [\n",
    "    [1,2,3],\n",
    "    [4,5,6],\n",
    "    [6,7,8]\n",
    "]\n",
    "\n",
    "def det_2(mat):\n",
    "    a,b = mat[0]\n",
    "    c,d = mat[1]\n",
    "    \n",
    "    return (a*d) - (b*c)\n",
    "\n",
    "print(\"Determinant of 2x2 matrix is : \",det_2(mat_2x2))\n",
    "\n",
    "def det_3(mat):\n",
    "    a,b,c = mat[0]\n",
    "    d,e,f = mat[1]\n",
    "    g,h,i = mat[2]\n",
    "    \n",
    "    return (a * (e * i - f * h) - b * (d*i - f*g) + c * (d*h - e *g))\n",
    "\n",
    "print(\"Determinant of 3x3 matrix is : \",det_3(mat_3x3))\n",
    "\n",
    "\n",
    "    "
   ]
  },
  {
   "cell_type": "markdown",
   "id": "15a2f8fa",
   "metadata": {},
   "source": [
    "# Inverse"
   ]
  },
  {
   "cell_type": "code",
   "execution_count": 31,
   "id": "23d5a42f",
   "metadata": {},
   "outputs": [
    {
     "name": "stdout",
     "output_type": "stream",
     "text": [
      "[[-2.5, 1.5], [2.0, -1.0]]\n"
     ]
    }
   ],
   "source": [
    "mat_b = [\n",
    "    [2,3],\n",
    "    [4,5]\n",
    "    ]  \n",
    "    \n",
    "    \n",
    "def inverse(m):\n",
    "    a,b = m[0]\n",
    "    c,d = m[1]\n",
    "    \n",
    "    det = (a * d) - (b * c)\n",
    "    \n",
    "    if det == 0:\n",
    "        return \"Cant inverse beacuse det is 0\"\n",
    "    inver = [\n",
    "        [d/det,-b/det],\n",
    "        [-c/det,a/det]\n",
    "    ]\n",
    "    \n",
    "    return inver\n",
    "\n",
    "print(inverse(mat_b))"
   ]
  },
  {
   "cell_type": "code",
   "execution_count": 34,
   "id": "1fcc47b9",
   "metadata": {},
   "outputs": [
    {
     "name": "stdout",
     "output_type": "stream",
     "text": [
      "Inverse is : [[-24.  18.   5.]\n",
      " [ 20. -15.  -4.]\n",
      " [ -5.   4.   1.]]\n"
     ]
    }
   ],
   "source": [
    "# Determint of 3x3 matrix using     numpy \n",
    "\n",
    "import numpy as np\n",
    "mat_3 = A = np.array([[1, 2, 3],\n",
    "              [0, 1, 4],\n",
    "              [5, 6, 0]])\n",
    "\n",
    "det_A = np.linalg.det(mat_3)\n",
    "\n",
    "if det_A ==0:\n",
    "    print(\"det is zero \")\n",
    "\n",
    "inv = np.linalg.inv(mat_3)\n",
    "print(\"Inverse is :\",inv)"
   ]
  },
  {
   "cell_type": "markdown",
   "id": "86bd3cc4",
   "metadata": {},
   "source": [
    "# Dot Products "
   ]
  },
  {
   "cell_type": "code",
   "execution_count": 38,
   "id": "3dbe6f8e",
   "metadata": {},
   "outputs": [
    {
     "name": "stdout",
     "output_type": "stream",
     "text": [
      "-2\n"
     ]
    }
   ],
   "source": [
    "a = [2,3,4]\n",
    "b = [1,0,-1]\n",
    "\n",
    "def dot(a,b):\n",
    "    dot_pro = 0\n",
    "    for i in range(len(a)):\n",
    "        dot_pro += a[i] * b[i]\n",
    "        \n",
    "    return dot_pro\n",
    "\n",
    "print(dot(a,b))\n",
    "    "
   ]
  },
  {
   "cell_type": "code",
   "execution_count": 39,
   "id": "72ac849b",
   "metadata": {},
   "outputs": [
    {
     "name": "stdout",
     "output_type": "stream",
     "text": [
      "-2\n"
     ]
    }
   ],
   "source": [
    "import numpy as np  # using dot prodcut \n",
    "\n",
    "dot = np.dot(a,b)\n",
    "print(dot)"
   ]
  },
  {
   "cell_type": "code",
   "execution_count": 44,
   "id": "fc2aee77",
   "metadata": {},
   "outputs": [
    {
     "name": "stdout",
     "output_type": "stream",
     "text": [
      "7.0\n"
     ]
    }
   ],
   "source": [
    "# Magnitude of a vector\n",
    "a = [2,-3,6]\n",
    "sq = [x **2 for x in a ]\n",
    "sum_sq = sum(sq)\n",
    "mag = sum_sq ** 0.5\n",
    "print(mag)\n"
   ]
  },
  {
   "cell_type": "code",
   "execution_count": null,
   "id": "ccdcfaeb",
   "metadata": {},
   "outputs": [],
   "source": []
  }
 ],
 "metadata": {
  "kernelspec": {
   "display_name": "Python 3 (ipykernel)",
   "language": "python",
   "name": "python3"
  },
  "language_info": {
   "codemirror_mode": {
    "name": "ipython",
    "version": 3
   },
   "file_extension": ".py",
   "mimetype": "text/x-python",
   "name": "python",
   "nbconvert_exporter": "python",
   "pygments_lexer": "ipython3",
   "version": "3.11.5"
  }
 },
 "nbformat": 4,
 "nbformat_minor": 5
}
