{
 "cells": [
  {
   "cell_type": "markdown",
   "id": "b8423ecd",
   "metadata": {},
   "source": [
    "# Sorting Algo"
   ]
  },
  {
   "cell_type": "markdown",
   "id": "f816c658",
   "metadata": {},
   "source": [
    "Bubble sort"
   ]
  },
  {
   "cell_type": "code",
   "execution_count": 1,
   "id": "6d3ebcb0",
   "metadata": {},
   "outputs": [
    {
     "name": "stdout",
     "output_type": "stream",
     "text": [
      "[1, 1, 2, 4, 12, 12, 12, 12, 23, 23, 24, 32, 34, 53, 94]\n"
     ]
    }
   ],
   "source": [
    "def bubble_sort(arr):\n",
    "    n = len(arr)\n",
    "    \n",
    "    for i in range(n):\n",
    "        for j in range(0,n-i-1):\n",
    "            if arr[j] > arr[j+1]:\n",
    "                arr[j],arr[j+1] = arr[j+1],arr[j]\n",
    "                \n",
    "    return arr\n",
    "\n",
    "arr = [1,23,12,32,12,12,12,34,23,4,1,24,53,2,94]\n",
    "\n",
    "print(bubble_sort(arr))"
   ]
  },
  {
   "cell_type": "markdown",
   "id": "f1e776c8",
   "metadata": {},
   "source": [
    "Selection Sort"
   ]
  },
  {
   "cell_type": "code",
   "execution_count": 2,
   "id": "e9fe8dd1",
   "metadata": {},
   "outputs": [
    {
     "name": "stdout",
     "output_type": "stream",
     "text": [
      "[1, 1, 2, 4, 12, 12, 12, 12, 23, 23, 24, 32, 34, 53, 94]\n"
     ]
    }
   ],
   "source": [
    "def selection_sort(arr):\n",
    "    n = len(arr)\n",
    "    \n",
    "    for i in range(n):\n",
    "        min_index = i\n",
    "        \n",
    "        for j in range(i+1,n):\n",
    "            if arr[j] < arr[min_index]:\n",
    "                min_index = j\n",
    "                \n",
    "        arr[i],arr[min_index] = arr[min_index],arr[i]\n",
    "        \n",
    "    return arr\n",
    "\n",
    "\n",
    "arr = [1,23,12,32,12,12,12,34,23,4,1,24,53,2,94]\n",
    "\n",
    "print(selection_sort(arr))"
   ]
  },
  {
   "cell_type": "markdown",
   "id": "3886327b",
   "metadata": {},
   "source": [
    "Insertion sort"
   ]
  },
  {
   "cell_type": "code",
   "execution_count": 5,
   "id": "ecfd3245",
   "metadata": {},
   "outputs": [
    {
     "name": "stdout",
     "output_type": "stream",
     "text": [
      "[1, 1, 2, 4, 12, 12, 12, 12, 23, 23, 24, 32, 34, 53, 94]\n"
     ]
    }
   ],
   "source": [
    "def insertion_Sort(arr):\n",
    "    for i in range(1,len(arr)):\n",
    "        key = arr[i]\n",
    "        j = i -1\n",
    "        \n",
    "        while j >= 0 and arr[j] >= key:\n",
    "            arr[j+1] = arr[j]\n",
    "            j -=1 \n",
    "            \n",
    "        arr[j+1] = key\n",
    "        \n",
    "    return arr\n",
    "\n",
    "\n",
    "arr = [1,23,12,32,12,12,12,34,23,4,1,24,53,2,94]\n",
    "print(insertion_Sort(arr))\n",
    "        "
   ]
  },
  {
   "cell_type": "markdown",
   "id": "aea498f3",
   "metadata": {},
   "source": [
    "Merge sort "
   ]
  },
  {
   "cell_type": "code",
   "execution_count": 10,
   "id": "5b7acb83",
   "metadata": {},
   "outputs": [
    {
     "name": "stdout",
     "output_type": "stream",
     "text": [
      "[1, 1, 2, 4, 12, 12, 12, 12, 23, 23, 24, 32, 34, 53, 94]\n"
     ]
    }
   ],
   "source": [
    "def merge_sort(arr):\n",
    "    if len(arr) <=1:\n",
    "        return arr\n",
    "    \n",
    "    mid = len(arr)//2\n",
    "    left = arr[:mid]\n",
    "    right = arr[mid:]\n",
    "    \n",
    "    return merge(merge_sort(left),merge_sort(right))\n",
    "\n",
    "def merge(left,right):\n",
    "    result = []\n",
    "    i = j = 0\n",
    "    \n",
    "    while i < len(left) and j < len(right):\n",
    "        if left[i] < right[j]:\n",
    "            result.append(left[i])\n",
    "            i +=1\n",
    "        else:\n",
    "            result.append(right[j])\n",
    "            j +=1\n",
    "            \n",
    "    result.extend(left[i:])\n",
    "    result.extend(right[j:])\n",
    "    \n",
    "    return result\n",
    "    \n",
    "\n",
    "arr = [1,23,12,32,12,12,12,34,23,4,1,24,53,2,94]\n",
    "print(merge_sort(arr))\n",
    "        "
   ]
  },
  {
   "cell_type": "markdown",
   "id": "967775d5",
   "metadata": {},
   "source": [
    "Quick Sort"
   ]
  },
  {
   "cell_type": "code",
   "execution_count": 11,
   "id": "1398a5ca",
   "metadata": {},
   "outputs": [
    {
     "name": "stdout",
     "output_type": "stream",
     "text": [
      "[1, 1, 1, 2, 4, 12, 12, 12, 12, 12, 12, 12, 12, 12, 12, 12, 12, 12, 12, 12, 23, 23, 23, 24, 32, 34, 53, 94]\n"
     ]
    }
   ],
   "source": [
    "def quick_sort(arr):\n",
    "    if len(arr) <=1:\n",
    "        return arr\n",
    "    \n",
    "    pivot = arr[-1]\n",
    "    \n",
    "    left = [x for x in arr[:-1] if x <=pivot]\n",
    "    right = [x for x in arr[:-1] if x >= pivot]\n",
    "    \n",
    "    return quick_sort(left) + [pivot] + quick_sort(right)\n",
    "\n",
    "\n",
    "\n",
    "arr = [1,23,12,32,12,12,12,34,23,4,1,24,53,2,94]\n",
    "print(quick_sort(arr))\n",
    "        "
   ]
  },
  {
   "cell_type": "markdown",
   "id": "580be75f",
   "metadata": {},
   "source": [
    "# STACK"
   ]
  },
  {
   "cell_type": "code",
   "execution_count": 3,
   "id": "edb2dbf0",
   "metadata": {},
   "outputs": [
    {
     "name": "stdout",
     "output_type": "stream",
     "text": [
      "[10, 12, 13, 14]\n"
     ]
    }
   ],
   "source": [
    "class stack:\n",
    "    def __init__(self):\n",
    "        self.stack = []\n",
    "        \n",
    "    def push(self,data):\n",
    "        self.stack.append(data)\n",
    "        \n",
    "    def pop(self):\n",
    "        if not self.is_empty():\n",
    "            return self.stack.pop()\n",
    "        else:\n",
    "            return \"Stack is empty\"\n",
    "        \n",
    "    def peek(self):\n",
    "        if not self.is_empty():\n",
    "            return self.stack[-1]\n",
    "        return \"Stack is empty\"\n",
    "    \n",
    "    def is_empty(self):\n",
    "        return len(self.stack) == 0\n",
    "    \n",
    "    \n",
    "s = stack()\n",
    "s.push(10)\n",
    "s.push(12)\n",
    "s.push(13)\n",
    "s.push(14)\n",
    "\n",
    "print(s.stack)"
   ]
  },
  {
   "cell_type": "markdown",
   "id": "e1b1b6f5",
   "metadata": {},
   "source": [
    "# Queue"
   ]
  },
  {
   "cell_type": "code",
   "execution_count": 6,
   "id": "c52460be",
   "metadata": {},
   "outputs": [
    {
     "name": "stdout",
     "output_type": "stream",
     "text": [
      "[1, 11, 111, 1111, 11111]\n",
      "1\n",
      "[11, 111, 1111, 11111]\n"
     ]
    }
   ],
   "source": [
    "class Queue:\n",
    "    def __init__(self):\n",
    "        self.queue = []\n",
    "        \n",
    "    def enqueue(self,data):\n",
    "        return self.queue.append(data)\n",
    "    def dequeue(self):\n",
    "        if not self.is_empty():\n",
    "            return self.queue.pop(0)\n",
    "        return \"Queue is empty\"\n",
    "    \n",
    "    def peek(self):\n",
    "        if not self.is_empty():\n",
    "            return self.queue[0]\n",
    "        return \"Queue is empty\"\n",
    "    \n",
    "    def is_empty(self):\n",
    "        return len(self.queue) == 0\n",
    "    \n",
    "q = Queue()\n",
    "q.enqueue(1)\n",
    "q.enqueue(11)\n",
    "q.enqueue(111)\n",
    "q.enqueue(1111)\n",
    "q.enqueue(11111)\n",
    "print(q.queue)\n",
    "  \n",
    "print(q.dequeue())\n",
    "print(q.queue)"
   ]
  },
  {
   "cell_type": "markdown",
   "id": "24b9f242",
   "metadata": {},
   "source": [
    "# Stack using Queue "
   ]
  },
  {
   "cell_type": "code",
   "execution_count": 7,
   "id": "e459b21c",
   "metadata": {},
   "outputs": [
    {
     "name": "stdout",
     "output_type": "stream",
     "text": [
      "30\n"
     ]
    }
   ],
   "source": [
    "class stackusingQueue:\n",
    "    def __init__(self):\n",
    "        self.q1 = []\n",
    "        self.q2 = []\n",
    "        \n",
    "    def push(self,data):\n",
    "        self.q2.append(data)\n",
    "        \n",
    "        while self.q1:\n",
    "            self.q2.append(self.q1.pop(0))\n",
    "            \n",
    "        self.q1,self.q2  = self.q2,self.q1\n",
    "        \n",
    "        \n",
    "    def pop(self):\n",
    "        if not self.is_empty():\n",
    "            return self.q1.pop(0)\n",
    "        return \"Stack is empty\"\n",
    "    \n",
    "    def peek(self):\n",
    "        if not self.is_empty():\n",
    "            return self.q1[0]\n",
    "        return \"Stack is empty\"\n",
    "    \n",
    "    def is_empty(self):\n",
    "        return len(self.q1) == 0\n",
    "    \n",
    "    \n",
    "stack = stackusingQueue()\n",
    "stack.push(10)\n",
    "stack.push(20)\n",
    "stack.push(30)\n",
    "\n",
    "print(stack.pop())\n",
    "            "
   ]
  },
  {
   "cell_type": "markdown",
   "id": "e5fab2d2",
   "metadata": {},
   "source": [
    "# Queue using Stack "
   ]
  },
  {
   "cell_type": "code",
   "execution_count": 10,
   "id": "8431f4f0",
   "metadata": {},
   "outputs": [
    {
     "name": "stdout",
     "output_type": "stream",
     "text": [
      "12\n"
     ]
    }
   ],
   "source": [
    "class QueueusingStack:\n",
    "    def __init__(self):\n",
    "        self.s1 = []\n",
    "        self.s2 = []\n",
    "        \n",
    "    def enqueue(self,data):\n",
    "        while self.s1:\n",
    "            self.s2.append(self.s1.pop())\n",
    "            \n",
    "        self.s1.append(data)\n",
    "        \n",
    "        while self.s2:\n",
    "            self.s1.append(self.s2.pop())\n",
    "            \n",
    "            \n",
    "    def dequeue(self):\n",
    "        if not self.is_empty():\n",
    "            return self.s1.pop()\n",
    "        return \"Q is empty\"\n",
    "    \n",
    "    def peek(self):\n",
    "        if not self.is_empty():\n",
    "            return self.s1[-1]\n",
    "        return \"Q is empty\"\n",
    "    \n",
    "    \n",
    "    def is_empty(self):\n",
    "        return len(self.s1) == 0\n",
    "    \n",
    "    \n",
    "qu = QueueusingStack()\n",
    "qu.enqueue(12)\n",
    "print(qu.dequeue())\n",
    "        "
   ]
  },
  {
   "cell_type": "code",
   "execution_count": null,
   "id": "13e03d2a",
   "metadata": {},
   "outputs": [],
   "source": []
  }
 ],
 "metadata": {
  "kernelspec": {
   "display_name": "Python 3 (ipykernel)",
   "language": "python",
   "name": "python3"
  },
  "language_info": {
   "codemirror_mode": {
    "name": "ipython",
    "version": 3
   },
   "file_extension": ".py",
   "mimetype": "text/x-python",
   "name": "python",
   "nbconvert_exporter": "python",
   "pygments_lexer": "ipython3",
   "version": "3.11.5"
  }
 },
 "nbformat": 4,
 "nbformat_minor": 5
}
