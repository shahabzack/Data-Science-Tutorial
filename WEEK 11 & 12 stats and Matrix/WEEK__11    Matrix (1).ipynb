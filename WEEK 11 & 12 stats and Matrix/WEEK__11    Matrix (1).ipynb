{
 "cells": [
  {
   "cell_type": "markdown",
   "id": "a7dc6120",
   "metadata": {},
   "source": [
    "#### A Matrix is an ordered Rectangular array of numbers or functions \n",
    "\n",
    "each value in matrix in known as elements \n",
    "#### Column --> j     Row --> i           (rc)      \n"
   ]
  },
  {
   "cell_type": "markdown",
   "id": "44b10819",
   "metadata": {},
   "source": [
    "# things to learn\n",
    "\n",
    "Transpose,\n",
    "determint calculation,\n",
    "inverse calcuylation,\n",
    "dot product,\n",
    "Eigenvalues and Eigenvectors\n"
   ]
  },
  {
   "cell_type": "code",
   "execution_count": 1,
   "id": "5c6afde1",
   "metadata": {},
   "outputs": [],
   "source": [
    "# Lets Learn create a Matrix "
   ]
  },
  {
   "cell_type": "code",
   "execution_count": 10,
   "id": "bb38ec02",
   "metadata": {},
   "outputs": [
    {
     "data": {
      "text/plain": [
       "[[-9, -18, -27], [-36, -45, -54]]"
      ]
     },
     "execution_count": 10,
     "metadata": {},
     "output_type": "execute_result"
    }
   ],
   "source": [
    "matrix_a = [\n",
    "    [1,2,3],\n",
    "    [4,5,6]\n",
    "]\n",
    "\n",
    "matrix_b = [\n",
    "    [10,20,30],\n",
    "    [40,50,60]\n",
    "]\n",
    "\n",
    "add_matrix = []\n",
    "\n",
    "\n",
    "for i in range(len(matrix_a)):\n",
    "    row = []\n",
    "    for j in range(len(matrix_a[0])):\n",
    "        row.append(matrix_a[i][j] + matrix_b[i][j])\n",
    "    add_matrix.append(row)\n",
    "    \n",
    "\n",
    "add_matrix       "
   ]
  },
  {
   "cell_type": "markdown",
   "id": "dd880887",
   "metadata": {},
   "source": [
    "#### Scalar Multiplication\n",
    "\n",
    "\n",
    "multiply an matrix with a value \n"
   ]
  },
  {
   "cell_type": "code",
   "execution_count": 9,
   "id": "fabe097f",
   "metadata": {},
   "outputs": [
    {
     "data": {
      "text/plain": [
       "[[60, 9, 69, 6], [129, 129, 69, 102], [9, 36, 135, 96]]"
      ]
     },
     "execution_count": 9,
     "metadata": {},
     "output_type": "execute_result"
    }
   ],
   "source": [
    "matrix_a = [\n",
    "    [20,3,23,2],\n",
    "    [43,43,23,34],\n",
    "    [3,12,45,32]\n",
    "]\n",
    "\n",
    "s_val = 3\n",
    "\n",
    "\n",
    "res = []\n",
    "#Lets do it \n",
    "\n",
    "for i in range(len(matrix_a)):\n",
    "    row = []\n",
    "    for j in range(len(matrix_a[0])):\n",
    "        row.append(matrix_a[i][j] * s_val)\n",
    "    res.append(row)\n",
    "    \n",
    "res\n",
    "        \n",
    "    "
   ]
  },
  {
   "cell_type": "markdown",
   "id": "57476a40",
   "metadata": {},
   "source": [
    "#### TRANSPOSE MATRIX\n",
    "\n",
    "FLIPING THE ROW AND COLUMN         ,  ROW BECOME COLUMN AND COLUMN BECOME ROW "
   ]
  },
  {
   "cell_type": "code",
   "execution_count": 14,
   "id": "b7d796f8",
   "metadata": {},
   "outputs": [
    {
     "name": "stdout",
     "output_type": "stream",
     "text": [
      "[[1, 4], [2, 5], [3, 6]]\n"
     ]
    }
   ],
   "source": [
    "def transpose(matrix):\n",
    "    res = []\n",
    "    \n",
    "    for j in range(len(matrix[0])):\n",
    "        row = []\n",
    "        \n",
    "        for i in range(len(matrix)):\n",
    "            row.append(matrix[i][j])\n",
    "        res.append(row)\n",
    "        \n",
    "    return res\n",
    "\n",
    "def display(matrix):\n",
    "    for row in matrix:\n",
    "        print(row)\n",
    "        \n",
    "        \n",
    "matrix = [\n",
    "    [1,2,3],\n",
    "    [4,5,6]\n",
    "]\n",
    "\n",
    "\n",
    "ts = transpose(matrix)\n",
    "\n",
    "print(ts)\n",
    "        \n"
   ]
  },
  {
   "cell_type": "markdown",
   "id": "ccdad8dc",
   "metadata": {},
   "source": [
    "#### Determinant\n",
    "\n",
    "It is a single number that can be calculated from a squre Matrix  "
   ]
  },
  {
   "cell_type": "code",
   "execution_count": 16,
   "id": "169b3b7d",
   "metadata": {},
   "outputs": [
    {
     "name": "stdout",
     "output_type": "stream",
     "text": [
      "Determinant of 2*2 Matrix is : -2 \n",
      "\n",
      "Determinant of 3*3 Matrix is : 0 \n"
     ]
    }
   ],
   "source": [
    "# 2 X 2 Matrix\n",
    "\n",
    "def det_2(mat):\n",
    "    a,b = mat[0]\n",
    "    c,d = mat[1]\n",
    "    \n",
    "    return a * d - b * c\n",
    "\n",
    "\n",
    "# 3 * 3 Matrix\n",
    "\n",
    "def det_3(mat):\n",
    "    a,b,c = mat[0]\n",
    "    d,e,f = mat[1]\n",
    "    g,h,i = mat[2]\n",
    "    \n",
    "    return (a * (e*i - f *h) - b *(d*i - f*g) + c * (d*h - e*g))\n",
    "\n",
    "\n",
    "matrix_2x2 = [[1, 2], [3, 4]]\n",
    "matrix_3x3 = [[1, 2, 3], [4, 5, 6], [7, 8, 9]]\n",
    "\n",
    "print(f\"Determinant of 2*2 Matrix is : {det_2(matrix_2x2)} \")\n",
    "print()\n",
    "print(f\"Determinant of 3*3 Matrix is : {det_3(matrix_3x3)} \")"
   ]
  },
  {
   "cell_type": "markdown",
   "id": "85abe0e3",
   "metadata": {},
   "source": [
    "#### INVERSE CALCULATION \n",
    "\n",
    "When multiplay its orginal matrix it give the identity Matrix\n",
    "\n",
    "condition for inverse\n",
    "1) must be a squre matrix (same no.of row and same no.of  columnb)\n",
    "2) determinant not be Zero "
   ]
  },
  {
   "cell_type": "code",
   "execution_count": 1,
   "id": "ab811f2e",
   "metadata": {},
   "outputs": [
    {
     "name": "stdout",
     "output_type": "stream",
     "text": [
      "[[-2.5, 1.5], [2.0, -1.0]]\n"
     ]
    }
   ],
   "source": [
    "## Lets do a practical\n",
    "\n",
    "mat_b = [\n",
    "    [2,3],\n",
    "    [4,5]\n",
    "    ]  \n",
    "    \n",
    "def inverse(ax):\n",
    "    a,b = ax[0][0],ax[0][1]\n",
    "    c,d = ax[1][0],ax[1][1]\n",
    "    \n",
    "    det = a * d - b * c\n",
    "    \n",
    "    if det == 0:\n",
    "        return \"Cant inverse\"\n",
    "        \n",
    "    inverse_matrix = [\n",
    "        [d/det , -b/det],\n",
    "        [-c/det , a/det]\n",
    "        ] \n",
    "        \n",
    "    return inverse_matrix\n",
    "    \n",
    "    \n",
    "print(inverse(mat_b))\n",
    "        "
   ]
  },
  {
   "cell_type": "markdown",
   "id": "1430c9bc",
   "metadata": {},
   "source": [
    "#### DOT PRODUCT\n",
    "\n",
    "it is a operations that take two vectors and return single number  "
   ]
  },
  {
   "cell_type": "code",
   "execution_count": 38,
   "id": "dbd1c634",
   "metadata": {},
   "outputs": [
    {
     "name": "stdout",
     "output_type": "stream",
     "text": [
      "-2\n"
     ]
    }
   ],
   "source": [
    "def dot_product(vec_a,vec_b):\n",
    "    if len(vec_a) != len(vec_b):\n",
    "        return \"Vector must be same dimension\"\n",
    "    \n",
    "    res = 0\n",
    "    for i in range(len(vec_a)):\n",
    "        res += vec_a[i] * vec_b[i]\n",
    "        \n",
    "    return res\n",
    "\n",
    "vector_a = [2, 3, 4]\n",
    "vector_b = [1, 0, -1]\n",
    "\n",
    "res = dot_product(vector_a,vector_b)\n",
    "\n",
    "print(res)\n",
    "    "
   ]
  },
  {
   "cell_type": "markdown",
   "id": "b14f59eb",
   "metadata": {},
   "source": [
    "### Mangnitude \n",
    "\n",
    "Its a Measurement that tell how long the vector \n",
    "\n",
    "step1 = squre the vector element\n",
    "step2 = sum the squred elements\n",
    "step3 = return the root of sum  "
   ]
  },
  {
   "cell_type": "code",
   "execution_count": 46,
   "id": "d80c801a",
   "metadata": {},
   "outputs": [
    {
     "name": "stdout",
     "output_type": "stream",
     "text": [
      "7.0\n"
     ]
    }
   ],
   "source": [
    "def mangitude(vec):\n",
    "    sq = [x**2 for x in vec]\n",
    "    sum_sq = sum(sq)\n",
    "    return sum_sq ** 0.5\n",
    "\n",
    "v = [2,-3,6]\n",
    "print(mangitude(v))"
   ]
  },
  {
   "cell_type": "markdown",
   "id": "38863b13",
   "metadata": {},
   "source": [
    "#### Finding Angle Between 2 Vectors \n",
    "\n",
    "In data science, finding the angle between vectors helps measure similarity or correlation between data points, often used in techniques like cosine similarity for clustering or recommendations.\n",
    "\n",
    "steps \n",
    "\n",
    "1) find dot product\n",
    "2) calculate magnitude of each \n",
    "3) find cosin value \n",
    "4) calculate the angle"
   ]
  },
  {
   "cell_type": "code",
   "execution_count": 3,
   "id": "2193f4dc",
   "metadata": {},
   "outputs": [
    {
     "name": "stdout",
     "output_type": "stream",
     "text": [
      "The Angle between Vector A and Vector B is 90.0 degree\n"
     ]
    }
   ],
   "source": [
    "import math\n",
    "\n",
    "vector_a = [3,4]\n",
    "vector_b = [4,-3]\n",
    "\n",
    "#step 1 dot product\n",
    "def dot_pro(a,b):\n",
    "    if len(a) == len(b):\n",
    "        return sum(a[i] * b[i] for i in range(len(a)))\n",
    "    else:\n",
    "        return \"can't\"\n",
    "    \n",
    "# step 2 magnitude\n",
    "\n",
    "def magnitude(v):\n",
    "    sum_of_sq = sum(v[i] **2 for i in range(len(v)))\n",
    "    return math.sqrt(sum_of_sq)\n",
    "\n",
    "# step3 find cosin value\n",
    "\n",
    "def angle_bt_vectors(a,b):\n",
    "    dot = dot_pro(a,b)\n",
    "    mag_a = magnitude(a)\n",
    "    mag_b = magnitude(b)\n",
    "    \n",
    "    cos_theta = dot / (mag_a *mag_b)\n",
    "    \n",
    "    angle = math.acos(cos_theta)\n",
    "    angle_deg = math.degrees(angle)\n",
    "    return angle_deg\n",
    "\n",
    "a = angle_bt_vectors(vector_a,vector_b)\n",
    "\n",
    "print(f\"The Angle between Vector A and Vector B is {a} degree\")\n",
    "    "
   ]
  },
  {
   "cell_type": "code",
   "execution_count": null,
   "id": "309c6405",
   "metadata": {},
   "outputs": [],
   "source": []
  }
 ],
 "metadata": {
  "kernelspec": {
   "display_name": "Python 3 (ipykernel)",
   "language": "python",
   "name": "python3"
  },
  "language_info": {
   "codemirror_mode": {
    "name": "ipython",
    "version": 3
   },
   "file_extension": ".py",
   "mimetype": "text/x-python",
   "name": "python",
   "nbconvert_exporter": "python",
   "pygments_lexer": "ipython3",
   "version": "3.11.5"
  }
 },
 "nbformat": 4,
 "nbformat_minor": 5
}
