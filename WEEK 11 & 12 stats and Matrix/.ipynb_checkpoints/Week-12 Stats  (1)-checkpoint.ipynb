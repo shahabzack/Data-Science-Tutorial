{
 "cells": [
  {
   "cell_type": "markdown",
   "id": "c1742d2b",
   "metadata": {},
   "source": [
    "# STATISTICS    \n"
   ]
  },
  {
   "cell_type": "markdown",
   "id": "6575074c",
   "metadata": {},
   "source": [
    "Decriptive statics - it explain about data that we have \n",
    "\n",
    "# Measure of Central Tendency \n",
    "Mean , Mode , Median"
   ]
  },
  {
   "cell_type": "code",
   "execution_count": 3,
   "id": "f2bc6cd8",
   "metadata": {},
   "outputs": [
    {
     "name": "stdout",
     "output_type": "stream",
     "text": [
      "Mean is :     32.4\n"
     ]
    }
   ],
   "source": [
    "ages = [22, 25, 30, 45, 40, 23, 35, 40, 38, 26]\n",
    "\n",
    "\n",
    "#1 Mean \n",
    "\n",
    "m = sum(ages) / len(ages)\n",
    "\n",
    "print(\"Mean is :    \", m)\n"
   ]
  },
  {
   "cell_type": "code",
   "execution_count": 6,
   "id": "a39df2c9",
   "metadata": {},
   "outputs": [
    {
     "name": "stdout",
     "output_type": "stream",
     "text": [
      "Median values is :  43.0\n"
     ]
    }
   ],
   "source": [
    "ages = [22, 25, 30, 45, 40, 23, 35, 40, 38, 26]\n",
    "\n",
    "#2 Median \n",
    "\n",
    "sorted_age = sorted(ages)\n",
    "n = len(ages)\n",
    "\n",
    "if n %2 == 0:\n",
    "    med_val = sorted_age[n//2 -1] + sorted_age[n//2 -2] / 2 \n",
    "    \n",
    "else:\n",
    "    med_val = sorted_age[n//2]\n",
    "    \n",
    "\n",
    "print(\"Median values is : \",med_val)"
   ]
  },
  {
   "cell_type": "code",
   "execution_count": 1,
   "id": "21dffc2f",
   "metadata": {},
   "outputs": [
    {
     "name": "stdout",
     "output_type": "stream",
     "text": [
      "Mode of data is : [40, 26]\n"
     ]
    }
   ],
   "source": [
    "ages = [22, 25, 30, 45, 40, 23, 35, 40, 38, 26,26]\n",
    "\n",
    "#3 Mode \n",
    "\n",
    "freq = {}\n",
    "\n",
    "for i in ages:\n",
    "    if i in freq:\n",
    "        freq[i] +=1\n",
    "    else:\n",
    "        freq[i] = 1\n",
    "        \n",
    "max_freq = max(freq.values())\n",
    "\n",
    "mode = [k for k,v in freq.items() if v == max_freq]\n",
    "\n",
    "print(\"Mode of data is :\",mode)"
   ]
  },
  {
   "cell_type": "markdown",
   "id": "688f3e00",
   "metadata": {},
   "source": [
    "# Measure if Varibility \n",
    "\n",
    "it help to understand how spread out the data    (how much differ the value from avg)"
   ]
  },
  {
   "cell_type": "code",
   "execution_count": 14,
   "id": "21e9b58a",
   "metadata": {},
   "outputs": [
    {
     "name": "stdout",
     "output_type": "stream",
     "text": [
      "Range of Age data is :  23\n"
     ]
    }
   ],
   "source": [
    "# 1 RANGE\n",
    "ages = [22, 25, 30, 45, 40, 23, 35, 40, 38, 26]\n",
    "\n",
    "r = max(ages) - min(ages)\n",
    "\n",
    "print(\"Range of Age data is : \",r)"
   ]
  },
  {
   "cell_type": "code",
   "execution_count": 18,
   "id": "99316c80",
   "metadata": {},
   "outputs": [
    {
     "name": "stdout",
     "output_type": "stream",
     "text": [
      "Varience of ages : 61.040000000000006\n"
     ]
    }
   ],
   "source": [
    "# 2 VARIENCE\n",
    "\n",
    "ages = [22, 25, 30, 45, 40, 23, 35, 40, 38, 26]\n",
    "mean_value = sum(ages) / len(ages)\n",
    "\n",
    "sq_dif_mean = [(x - mean_value) **2 for x in ages]\n",
    "\n",
    "varience = sum(sq_dif_mean) / len(ages)\n",
    "\n",
    "print(\"Varience of ages :\",varience)\n"
   ]
  },
  {
   "cell_type": "code",
   "execution_count": 19,
   "id": "bfc9e81b",
   "metadata": {},
   "outputs": [
    {
     "name": "stdout",
     "output_type": "stream",
     "text": [
      "Std of age dataste is :  7.812809993849845\n"
     ]
    }
   ],
   "source": [
    "# 3 Standard DEviation \n",
    "\n",
    "ages = [22, 25, 30, 45, 40, 23, 35, 40, 38, 26]\n",
    "\n",
    "# we need find varience \n",
    "\n",
    "mean = sum(ages) / len(ages)\n",
    "sq_dif_mean = [(x-mean)**2 for x in ages]\n",
    "\n",
    "varience = sum(sq_dif_mean) / len(sq_dif_mean)\n",
    "\n",
    "std = varience ** 0.5\n",
    "\n",
    "print(\"Std of age dataste is : \",std)\n",
    "\n",
    "\n",
    "\n"
   ]
  },
  {
   "cell_type": "code",
   "execution_count": 2,
   "id": "a7135db3",
   "metadata": {},
   "outputs": [
    {
     "name": "stdout",
     "output_type": "stream",
     "text": [
      "24\n",
      "27\n",
      "3\n"
     ]
    }
   ],
   "source": [
    "# 4  IQR\n",
    "\n",
    "ages = [23, 26, 24, 25, 27, 28, 25]\n",
    "\n",
    "ages.sort()\n",
    "n = len(ages)\n",
    "mid = n // 2\n",
    "\n",
    "if  n % 2 == 0:\n",
    "    q1 = ( ages[mid // 2 -1] + ages[mid // 2] ) / 2\n",
    "else:\n",
    "    q1 = ages[mid // 2 ]\n",
    "    \n",
    "if n % 2 == 0:\n",
    "    q3 = (ages[mid + mid// 2] + ages[mid + mid // 2+1 ] ) / 2\n",
    "else:\n",
    "    q3 = ages[mid + mid //2 +1]\n",
    "\n",
    "print(q1)\n",
    "print(q3)\n",
    "\n",
    "print(q3 - q1)\n",
    "\n",
    "\n",
    "#####  using numpy  \n",
    "\n",
    "\n",
    "# sorted_ages = sorted(ages)\n",
    "# q1 = np.percentile(sorted_ages, 25)  # 25th percentile\n",
    "# q3 = np.percentile(sorted_ages, 75)  # 75th percentile\n",
    "# iqr_manual = q3 - q1\n"
   ]
  },
  {
   "cell_type": "markdown",
   "id": "092b53dc",
   "metadata": {},
   "source": [
    "# Correlation \n",
    "\n",
    "it help to Measure Relationship between 2 varibles in dataset   ( it tell stregth & direction)\n",
    "\n",
    "\n",
    "# Coreelation Methods\n",
    "1) Pearson Correlation\n",
    "2) Spearman Correlation\n",
    "3) Kendall Tau Correlation"
   ]
  },
  {
   "cell_type": "code",
   "execution_count": 3,
   "id": "83d98277",
   "metadata": {},
   "outputs": [
    {
     "name": "stdout",
     "output_type": "stream",
     "text": [
      "Mean of X :  30.0\n",
      "Mean of Y :  35.0\n",
      "Covariance :  250.0\n",
      "Denominator :  250.0\n",
      "Pearson Correlation :  1.0\n"
     ]
    }
   ],
   "source": [
    "x = [10, 20, 30, 40, 50]\n",
    "y = [15, 25, 35, 45, 55]\n",
    "\n",
    "mean_x = sum(x) / len(x)\n",
    "mean_y = sum(y) / len(y)\n",
    "\n",
    "# Calculate covariance\n",
    "cov = 0\n",
    "for i in range(len(x)):\n",
    "    cov += (x[i] - mean_x) * (y[i] - mean_y)\n",
    "\n",
    "cov_res = cov / (len(x) - 1)  # Use (n - 1) for sample covariance\n",
    "\n",
    "# Calculate standard deviations for x and y\n",
    "deno_x = (sum((i - mean_x) ** 2 for i in x) / (len(x) - 1)) ** 0.5\n",
    "deno_y = (sum((i - mean_y) ** 2 for i in y) / (len(y) - 1)) ** 0.5\n",
    "\n",
    "# Calculate Pearson correlation\n",
    "denominator = deno_x * deno_y\n",
    "pear = cov_res / denominator\n",
    "\n",
    "print(\"Mean of X : \", mean_x)\n",
    "print(\"Mean of Y : \", mean_y)\n",
    "print(\"Covariance : \", cov_res)\n",
    "print(\"Denominator : \", denominator)\n",
    "print(\"Pearson Correlation : \", pear)\n"
   ]
  },
  {
   "cell_type": "code",
   "execution_count": 48,
   "id": "d46e541b",
   "metadata": {},
   "outputs": [
    {
     "name": "stdout",
     "output_type": "stream",
     "text": [
      "Ranks of X: [0, 1, 2, 3, 4]\n",
      "Ranks of Y: [0, 1, 2, 3, 4]\n",
      "Squared Differences: [0, 0, 0, 0, 0]\n",
      "Spearman's Rank Correlation: 1.0\n"
     ]
    }
   ],
   "source": [
    "# 2 Spearman’s Rank Correlation\n",
    "\n",
    "X = [10, 20, 30, 40, 50]\n",
    "Y = [15, 25, 35, 45, 55]\n",
    "\n",
    "# step1 rank the value of x and y (ascending order)\n",
    "\n",
    "rank_x = sorted(range(len(X)), key=lambda i:X[i])\n",
    "rank_y = sorted(range(len(Y)), key=lambda i:Y[i])\n",
    "\n",
    "# step 2   Calculate diff between rank\n",
    "\n",
    "d = [rank_x[i] - rank_y[i] for i in range(len(x))]\n",
    "\n",
    "# step 3 Calculate squared difference\n",
    "d_squred = [di **2 for di in d]\n",
    "\n",
    "# step 4 calculate spearman corelation\n",
    "n = len(X)\n",
    "\n",
    "sp_cor = 1 - (6 * sum(d_squred) / (n* (n**2 -1)))\n",
    "\n",
    "print(\"Ranks of X:\", rank_x)\n",
    "print(\"Ranks of Y:\", rank_y)\n",
    "print(\"Squared Differences:\", d_squred)\n",
    "print(\"Spearman's Rank Correlation:\", sp_cor)\n",
    "\n"
   ]
  },
  {
   "cell_type": "code",
   "execution_count": 53,
   "id": "787813bf",
   "metadata": {},
   "outputs": [
    {
     "name": "stdout",
     "output_type": "stream",
     "text": [
      "Concordant Pairs: 4\n",
      "Discordant Pairs: 6\n",
      "Kendall’s Tau Coefficient: -0.2\n"
     ]
    }
   ],
   "source": [
    "# 3  Kendall’s Tau \n",
    "\n",
    "scores_A = [85, 90, 95, 80, 75]\n",
    "scores_B = [80, 78, 85, 88, 82]\n",
    "\n",
    "\n",
    "concordant = 0\n",
    "discordant = 0\n",
    "n = len(scores_A)\n",
    "\n",
    "for i in range(n-1):\n",
    "    for j in range(i+1,n):\n",
    "        # step 1     calaculate diff in ranking\n",
    "        diff_A = scores_A[j] - scores_A[i]\n",
    "        diff_B = scores_B[j] - scores_B[i]\n",
    "        \n",
    "        # step 2      check pair is concordant or discordant\n",
    "        \n",
    "        if (diff_A > 0 and  diff_B > 0) or (diff_A < 0 and  diff_B < 0):\n",
    "            concordant +=1\n",
    "        elif (diff_A > 0 and diff_B < 0) or (diff_A < 0 and diff_B > 0):\n",
    "            discordant +=1\n",
    "            \n",
    "            \n",
    "        # step 3  Calculate Kendall's Tau\n",
    "        \n",
    "kendall = (concordant - discordant) / (0.5 * n *(n-1))\n",
    "        \n",
    "        \n",
    "print(\"Concordant Pairs:\", concordant)\n",
    "print(\"Discordant Pairs:\", discordant)\n",
    "print(\"Kendall’s Tau Coefficient:\", kendall)\n",
    "            \n",
    "        "
   ]
  },
  {
   "cell_type": "markdown",
   "id": "aeed21d3",
   "metadata": {},
   "source": [
    "Concordant Pairs\n",
    "Two pairs \n",
    "(\n",
    "𝑖\n",
    ",\n",
    "𝑗\n",
    ")\n",
    "(i,j) are considered concordant if they have the same direction in both lists. This means:\n",
    "\n",
    "If the value in the first list increases from \n",
    "𝑖\n",
    "i to \n",
    "𝑗\n",
    "j, the value in the second list also increases from \n",
    "𝑖\n",
    "i to \n",
    "𝑗\n",
    "j.\n",
    "Or, if the value in the first list decreases from \n",
    "𝑖\n",
    "i to \n",
    "𝑗\n",
    "j, the value in the second list also decreases from \n",
    "𝑖\n",
    "i to \n",
    "𝑗\n",
    "j.\n",
    "In other words, both pairs move in the same direction.\n",
    "\n",
    "Example\n",
    "Suppose we have scores:\n",
    "\n",
    "List A: \n",
    "85\n",
    "85, \n",
    "90\n",
    "90, \n",
    "95\n",
    "95, \n",
    "80\n",
    "80, \n",
    "75\n",
    "75\n",
    "List B: \n",
    "80\n",
    "80, \n",
    "78\n",
    "78, \n",
    "85\n",
    "85, \n",
    "88\n",
    "88, \n",
    "82\n",
    "82\n",
    "Compare \n",
    "𝐴\n",
    "1\n",
    "=\n",
    "85\n",
    "A \n",
    "1\n",
    "​\n",
    " =85 with \n",
    "𝐴\n",
    "2\n",
    "=\n",
    "90\n",
    "A \n",
    "2\n",
    "​\n",
    " =90 and \n",
    "𝐵\n",
    "1\n",
    "=\n",
    "80\n",
    "B \n",
    "1\n",
    "​\n",
    " =80 with \n",
    "𝐵\n",
    "2\n",
    "=\n",
    "78\n",
    "B \n",
    "2\n",
    "​\n",
    " =78:\n",
    "\n",
    "From \n",
    "85\n",
    "85 to \n",
    "90\n",
    "90, A increases.\n",
    "From \n",
    "80\n",
    "80 to \n",
    "78\n",
    "78, B decreases."
   ]
  },
  {
   "cell_type": "markdown",
   "id": "4243039d",
   "metadata": {},
   "source": [
    "# Calculate Covariance Manually"
   ]
  },
  {
   "cell_type": "code",
   "execution_count": 2,
   "id": "367ee629",
   "metadata": {},
   "outputs": [
    {
     "name": "stdout",
     "output_type": "stream",
     "text": [
      "Covariance: 7.0\n"
     ]
    }
   ],
   "source": [
    "x = [2, 4, 6, 8, 10]\n",
    "y = [1, 3, 5, 7, 9]\n",
    "\n",
    "# step1   calculate mean of both x and y\n",
    "mean_y = sum(x) / len(x)\n",
    "mean_x = sum(y) / len(y)\n",
    "\n",
    "cov = 0\n",
    "\n",
    "for i in range(len(x)):\n",
    "    cov += (x[i] - mean_x) * (y[i] - mean_y)\n",
    "    \n",
    "cov_res = cov / len(x)\n",
    "print(\"Covariance:\", cov_res)\n"
   ]
  },
  {
   "cell_type": "markdown",
   "id": "c8174f9b",
   "metadata": {},
   "source": [
    "# Probability Distributions\n",
    "\n",
    "### Discreate distribution\n",
    "1) Bernoulli Distribution\n",
    "2) Binomial Distribution\n",
    "3) Poisson Distribution\n",
    "\n",
    "### Continuous Distributions\n",
    "1) Normal Distribution (Gaussian)\n",
    "2) Uniform Distribution"
   ]
  },
  {
   "cell_type": "code",
   "execution_count": 5,
   "id": "1358d648",
   "metadata": {},
   "outputs": [
    {
     "name": "stdout",
     "output_type": "stream",
     "text": [
      "Random sample is :  [6, 1, 1, 2, 5, 1, 2, 5, 2, 6]\n"
     ]
    }
   ],
   "source": [
    "# 1 Unifrom Distribution \n",
    "\n",
    "import random\n",
    "\n",
    "def uniform(min_val,max_val,no_time):\n",
    "    samples = [random.randint(min_val,max_val) for _ in range(no_time)]\n",
    "    return samples\n",
    "\n",
    "res = uniform(1,6,10)          # 1 to 6       10 times rolling\n",
    "\n",
    "print(\"Random sample is : \",res)\n",
    "\n",
    "\n",
    "\n",
    "# using numpy \n",
    "# import numpy as np\n",
    "\n",
    "# samples = np.random.uniform(1, 6, 10)\n",
    "# print(\"Random samples:\", samples)"
   ]
  },
  {
   "cell_type": "code",
   "execution_count": 6,
   "id": "936b0bd6",
   "metadata": {},
   "outputs": [
    {
     "name": "stdout",
     "output_type": "stream",
     "text": [
      "Normal Distribution : [ 0.11872859  0.02080843  0.73434004 -0.20269596 -0.07184169  0.00947627\n",
      " -0.04610938  1.00866563  0.33626189 -0.69664453]\n"
     ]
    }
   ],
   "source": [
    "#2 Normal Distribution \n",
    "\n",
    "import numpy as np\n",
    "\n",
    "samples = np.random.normal(0,1,10)      #std and mean\n",
    "\n",
    "print(\"Normal Distribution :\",samples)"
   ]
  },
  {
   "cell_type": "code",
   "execution_count": 9,
   "id": "2834b729",
   "metadata": {},
   "outputs": [
    {
     "name": "stdout",
     "output_type": "stream",
     "text": [
      "Bernoulli Distribution Samples: [1 1 0 0 1 1 0 1 1 1]\n"
     ]
    }
   ],
   "source": [
    "# 3 Bernoulli Distribution\n",
    "\n",
    "import numpy as np\n",
    "p = 0.5   # probability of success\n",
    "num_samples = 10\n",
    "\n",
    "samples = np.random.binomial(1,p,num_samples)              # here 1 is no.of trial for each sample \n",
    "print(\"Bernoulli Distribution Samples:\", samples)\n"
   ]
  },
  {
   "cell_type": "code",
   "execution_count": 10,
   "id": "93610b24",
   "metadata": {},
   "outputs": [
    {
     "name": "stdout",
     "output_type": "stream",
     "text": [
      "Binomial Distribution Samples: [7 4 4 3 6]\n"
     ]
    }
   ],
   "source": [
    "# 4  Binomial Distribution \n",
    "import numpy as np\n",
    "\n",
    "# Parameters\n",
    "n = 10  # Number of trials\n",
    "p = 0.5  # Probability of success\n",
    "num_samples = 5  # Number of simulations\n",
    "\n",
    "\n",
    "samples = np.random.binomial(n, p, num_samples)\n",
    "print(\"Binomial Distribution Samples:\", samples)\n"
   ]
  },
  {
   "cell_type": "code",
   "execution_count": 11,
   "id": "f0f8dd36",
   "metadata": {},
   "outputs": [
    {
     "name": "stdout",
     "output_type": "stream",
     "text": [
      "Poisson Distribution Samples: [3 2 6 5 2 2 2 3 7 1]\n"
     ]
    }
   ],
   "source": [
    "# Poisson Distribution\n",
    "\n",
    "import numpy as np \n",
    "\n",
    "lambda_ = 5  # average rate of event\n",
    "num_sample = 10     \n",
    "\n",
    "samples = np.random.poisson(lambda_,num_sample)\n",
    "\n",
    "print(\"Poisson Distribution Samples:\", samples)"
   ]
  },
  {
   "cell_type": "markdown",
   "id": "bdb57804",
   "metadata": {},
   "source": [
    "# Regression"
   ]
  },
  {
   "cell_type": "code",
   "execution_count": 13,
   "id": "90ea174a",
   "metadata": {},
   "outputs": [
    {
     "name": "stdout",
     "output_type": "stream",
     "text": [
      "0.9\n",
      "0.09999999999999964\n"
     ]
    }
   ],
   "source": [
    "# simple Linear Regression \n",
    "\n",
    "from sklearn.linear_model import LinearRegression\n",
    "import numpy as np\n",
    "\n",
    "x = x = np.array([1, 2, 3, 4, 5]).reshape(-1, 1)  # Reshaping to 2D array\n",
    "y = np.array([1, 2, 2.5, 4, 4.5])\n",
    "\n",
    "\n",
    "model = LinearRegression()\n",
    "model.fit(x,y)\n",
    "\n",
    "print(model.coef_[0])\n",
    "print(model.intercept_)"
   ]
  },
  {
   "cell_type": "code",
   "execution_count": 14,
   "id": "f23f3cf3",
   "metadata": {},
   "outputs": [
    {
     "name": "stdout",
     "output_type": "stream",
     "text": [
      "Intercept (c) :  44999.99999999999\n",
      "Coefficients (m1,m2) :  [5.00000000e+03 8.62822433e-13]\n"
     ]
    }
   ],
   "source": [
    "# Multiple Linear Regression\n",
    "\n",
    "from sklearn.linear_model import LinearRegression\n",
    "import numpy as np\n",
    "\n",
    "# Dataset\n",
    "X = np.array([[1, 1], [2, 2], [3, 2], [4, 3], [5, 3]])  # Experience (X1), Education (X2)\n",
    "y = np.array([50000, 55000, 60000, 65000, 70000])  # Salary (Y)\n",
    "\n",
    "model = LinearRegression()\n",
    "\n",
    "model.fit(X,y)\n",
    "\n",
    "print(\"Intercept (c) : \",model.intercept_)\n",
    "print(\"Coefficients (m1,m2) : \",model.coef_)"
   ]
  },
  {
   "cell_type": "markdown",
   "id": "fa376e50",
   "metadata": {},
   "source": [
    "###  HYPOTHESIS TESTING\n",
    "\n",
    "Q) Suppose a teacher claims that her class's average test score is 80. However, you believe that the true average score is different from 80. You collect a random sample of scores from 10 students to test this claim."
   ]
  },
  {
   "cell_type": "code",
   "execution_count": 2,
   "id": "6aad2cbf",
   "metadata": {},
   "outputs": [
    {
     "name": "stdout",
     "output_type": "stream",
     "text": [
      "Sample Mean:  80.3\n",
      "Sample Standard Deviation:  3.334999583541537\n",
      "t-statistic: 0.28446279355845355\n",
      "p-value: 0.7824924012588357\n",
      "Fail to reject the null hypothesis: No significant difference.\n"
     ]
    }
   ],
   "source": [
    "import numpy as np\n",
    "from scipy import stats\n",
    "\n",
    "# Sample scores from students\n",
    "sample_scores = [78, 85, 82, 75, 79, 81, 84, 76, 80, 83]\n",
    "\n",
    "population_mean = 80          # from the question \n",
    "\n",
    "sample_mean = np.mean(sample_scores)\n",
    "sample_std_dev = np.std(sample_scores,ddof=1)\n",
    "\n",
    "print(\"Sample Mean: \", sample_mean)\n",
    "print(\"Sample Standard Deviation: \", sample_std_dev)\n",
    "\n",
    "# t-test\n",
    "\n",
    "t_statistic, p_value = stats.ttest_1samp(sample_scores, population_mean)\n",
    "\n",
    "print(\"t-statistic:\", t_statistic)\n",
    "print(\"p-value:\", p_value)\n",
    "\n",
    "\n",
    "\n",
    "# Significance level\n",
    "alpha = 0.05\n",
    "\n",
    "# Decision\n",
    "if p_value < alpha:\n",
    "    print(\"Reject the null hypothesis: There is a significant difference.\")\n",
    "else:\n",
    "    print(\"Fail to reject the null hypothesis: No significant difference.\")\n"
   ]
  },
  {
   "cell_type": "code",
   "execution_count": null,
   "id": "b20111da",
   "metadata": {},
   "outputs": [],
   "source": []
  }
 ],
 "metadata": {
  "kernelspec": {
   "display_name": "Python 3 (ipykernel)",
   "language": "python",
   "name": "python3"
  },
  "language_info": {
   "codemirror_mode": {
    "name": "ipython",
    "version": 3
   },
   "file_extension": ".py",
   "mimetype": "text/x-python",
   "name": "python",
   "nbconvert_exporter": "python",
   "pygments_lexer": "ipython3",
   "version": "3.11.5"
  }
 },
 "nbformat": 4,
 "nbformat_minor": 5
}
