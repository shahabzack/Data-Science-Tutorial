{
 "cells": [
  {
   "cell_type": "code",
   "execution_count": 2,
   "id": "ad36f6b6",
   "metadata": {},
   "outputs": [],
   "source": [
    "import numpy as np "
   ]
  },
  {
   "cell_type": "markdown",
   "id": "facd0566",
   "metadata": {},
   "source": [
    "## Lets create a 1D Array"
   ]
  },
  {
   "cell_type": "code",
   "execution_count": 4,
   "id": "146d36d2",
   "metadata": {},
   "outputs": [
    {
     "name": "stdout",
     "output_type": "stream",
     "text": [
      "[1 2 3 4 5]\n"
     ]
    }
   ],
   "source": [
    "arr_1d = np.array([1,2,3,4,5])\n",
    "\n",
    "print(arr_1d)"
   ]
  },
  {
   "cell_type": "markdown",
   "id": "2170bf36",
   "metadata": {},
   "source": [
    "## Lets Create a 2D Array"
   ]
  },
  {
   "cell_type": "code",
   "execution_count": 5,
   "id": "4dd71890",
   "metadata": {},
   "outputs": [
    {
     "name": "stdout",
     "output_type": "stream",
     "text": [
      "[[1 2 3]\n",
      " [4 5 6]]\n"
     ]
    }
   ],
   "source": [
    "arr_2d = np.array([[1,2,3],[4,5,6]])\n",
    "print(arr_2d)"
   ]
  },
  {
   "cell_type": "markdown",
   "id": "602e0448",
   "metadata": {},
   "source": [
    "## Lets Create 3D Array "
   ]
  },
  {
   "cell_type": "code",
   "execution_count": 6,
   "id": "9ca14353",
   "metadata": {},
   "outputs": [
    {
     "name": "stdout",
     "output_type": "stream",
     "text": [
      "[[[ 1  2  3]\n",
      "  [ 4  5  6]]\n",
      "\n",
      " [[ 7  8  9]\n",
      "  [10 11 12]]]\n"
     ]
    }
   ],
   "source": [
    "arr_3d = np.array([[[1,2,3],[4,5,6]],[[7,8,9],[10,11,12]]])\n",
    "\n",
    "print(arr_3d)"
   ]
  },
  {
   "cell_type": "code",
   "execution_count": 7,
   "id": "2fdd31a2",
   "metadata": {},
   "outputs": [
    {
     "name": "stdout",
     "output_type": "stream",
     "text": [
      "1\n",
      "2\n",
      "3\n"
     ]
    }
   ],
   "source": [
    "# To check diemention of array\n",
    "\n",
    "print(arr_1d.ndim)\n",
    "print(arr_2d.ndim)\n",
    "print(arr_3d.ndim)"
   ]
  },
  {
   "cell_type": "markdown",
   "id": "1b3374f5",
   "metadata": {},
   "source": [
    "## To find shape of array"
   ]
  },
  {
   "cell_type": "code",
   "execution_count": 8,
   "id": "45471e22",
   "metadata": {},
   "outputs": [
    {
     "name": "stdout",
     "output_type": "stream",
     "text": [
      "Shape of 2D Array : (5,)  ( Which means it is 1d array with 5 elements)\n",
      "Shape of 2D Array : (2, 3)   ( Which means it is 2D Array   2 row and 3 column)\n"
     ]
    }
   ],
   "source": [
    "print(\"Shape of 2D Array : \" + str(arr_1d.shape) + \"  ( Which means it is 1d array with 5 elements)\")  \n",
    "print(\"Shape of 2D Array : \"+ str(arr_2d.shape) + \"   ( Which means it is 2D Array   2 row and 3 column)\")"
   ]
  },
  {
   "cell_type": "code",
   "execution_count": 9,
   "id": "20347df8",
   "metadata": {},
   "outputs": [
    {
     "name": "stdout",
     "output_type": "stream",
     "text": [
      "6\n",
      "int32\n"
     ]
    }
   ],
   "source": [
    "print(arr_2d.size)          # To find total numbe of elements in a array\n",
    "print(arr_2d.dtype)       # to find data type"
   ]
  },
  {
   "cell_type": "markdown",
   "id": "053366d7",
   "metadata": {},
   "source": [
    "## Reshape an array"
   ]
  },
  {
   "cell_type": "code",
   "execution_count": 10,
   "id": "78264fff",
   "metadata": {},
   "outputs": [
    {
     "name": "stdout",
     "output_type": "stream",
     "text": [
      "[[ 1  2  3]\n",
      " [ 4  5  6]\n",
      " [ 7  8  9]\n",
      " [10 11 12]]\n"
     ]
    }
   ],
   "source": [
    "# 1D array into 2D Array\n",
    "\n",
    "arr_r = np.array([1,2,3,4,5,6,7,8,9,10,11,12])\n",
    "\n",
    "new_arr = arr_r.reshape(4,3)\n",
    "\n",
    "print(new_arr)"
   ]
  },
  {
   "cell_type": "code",
   "execution_count": 11,
   "id": "17fb338a",
   "metadata": {},
   "outputs": [
    {
     "name": "stdout",
     "output_type": "stream",
     "text": [
      "[[[ 1  2  3]\n",
      "  [ 4  5  6]]\n",
      "\n",
      " [[ 7  8  9]\n",
      "  [10 11 12]]]\n"
     ]
    }
   ],
   "source": [
    "# 1D Array into 3D Array \n",
    "arr_r = np.array([1,2,3,4,5,6,7,8,9,10,11,12])\n",
    "\n",
    "new_arr = arr_r.reshape(2,2,3)    # nof of bloack   # no of row  # now of column\n",
    "print(new_arr)\n"
   ]
  },
  {
   "cell_type": "code",
   "execution_count": 12,
   "id": "247dc025",
   "metadata": {},
   "outputs": [
    {
     "name": "stdout",
     "output_type": "stream",
     "text": [
      "Orginal Array D :  3\n",
      "[1 2 3 4 5 6 7 8]\n",
      "reshaped D is :  1\n"
     ]
    }
   ],
   "source": [
    "# Converting any diemention array into 1D\n",
    "\n",
    "arr = np.array([[[1,2],[3,4],[5,6],[7,8]]])      \n",
    "print(\"Orginal Array D : \",arr.ndim)\n",
    "\n",
    "new = arr.reshape(-1)\n",
    "print(new)\n",
    "print(\"reshaped D is : \",new.ndim)"
   ]
  },
  {
   "cell_type": "markdown",
   "id": "3fc31ef6",
   "metadata": {},
   "source": [
    " ## Generate Array "
   ]
  },
  {
   "cell_type": "code",
   "execution_count": 13,
   "id": "ea97cc2b",
   "metadata": {},
   "outputs": [
    {
     "name": "stdout",
     "output_type": "stream",
     "text": [
      "[[0. 0. 0.]\n",
      " [0. 0. 0.]]\n"
     ]
    }
   ],
   "source": [
    "zero_array = np.zeros((2,3))\n",
    "print(zero_array)"
   ]
  },
  {
   "cell_type": "code",
   "execution_count": 14,
   "id": "fbb092a8",
   "metadata": {},
   "outputs": [
    {
     "name": "stdout",
     "output_type": "stream",
     "text": [
      "[[1. 1. 1.]\n",
      " [1. 1. 1.]]\n"
     ]
    }
   ],
   "source": [
    "one_array = np.ones((2,3))\n",
    "print(one_array)"
   ]
  },
  {
   "cell_type": "code",
   "execution_count": 4,
   "id": "338709c5",
   "metadata": {},
   "outputs": [
    {
     "name": "stdout",
     "output_type": "stream",
     "text": [
      "[0 2 4 6 8]\n"
     ]
    }
   ],
   "source": [
    "arr_range = np.arange(0,10,2)\n",
    "print(arr_range)"
   ]
  },
  {
   "cell_type": "code",
   "execution_count": 16,
   "id": "7c425d23",
   "metadata": {},
   "outputs": [
    {
     "name": "stdout",
     "output_type": "stream",
     "text": [
      "[[0.59579075 0.09052688]\n",
      " [0.32411851 0.99067219]]\n"
     ]
    }
   ],
   "source": [
    "arr_random = np.random.rand(2,2)\n",
    "print(arr_random)                         # randomly create from 0 to 1"
   ]
  },
  {
   "cell_type": "code",
   "execution_count": 17,
   "id": "e5b134d4",
   "metadata": {},
   "outputs": [
    {
     "name": "stdout",
     "output_type": "stream",
     "text": [
      "[[1 4 3]\n",
      " [1 4 2]]\n"
     ]
    }
   ],
   "source": [
    "arr_random_int = np.random.randint(1,5,size=(2,3))            # create randome 1 to 5 \n",
    "print(arr_random_int)"
   ]
  },
  {
   "cell_type": "markdown",
   "id": "5b357cd1",
   "metadata": {},
   "source": [
    "# To create a  n dimention array     "
   ]
  },
  {
   "cell_type": "code",
   "execution_count": 18,
   "id": "2f0a1c37",
   "metadata": {},
   "outputs": [
    {
     "name": "stdout",
     "output_type": "stream",
     "text": [
      "[[[[[1 2 3]]]]]\n",
      "Dimention is :  5\n"
     ]
    }
   ],
   "source": [
    "arr_5d = np.array([1,2,3],ndmin=5)\n",
    "print(arr_5d)\n",
    "print(\"Dimention is : \",arr_5d.ndim)"
   ]
  },
  {
   "cell_type": "markdown",
   "id": "394cdb84",
   "metadata": {},
   "source": [
    "## Basic Operations using Numpy "
   ]
  },
  {
   "cell_type": "code",
   "execution_count": 19,
   "id": "b965c2b1",
   "metadata": {},
   "outputs": [
    {
     "name": "stdout",
     "output_type": "stream",
     "text": [
      "[11 12 13]\n"
     ]
    }
   ],
   "source": [
    "# ELement wise Operations\n",
    "\n",
    "arr = np.array([1,2,3])\n",
    "\n",
    "print(arr + 10)         # each element add by 10"
   ]
  },
  {
   "cell_type": "code",
   "execution_count": 20,
   "id": "5778bf1b",
   "metadata": {},
   "outputs": [
    {
     "name": "stdout",
     "output_type": "stream",
     "text": [
      "[[19 22]\n",
      " [43 50]]\n"
     ]
    }
   ],
   "source": [
    "# MAtrix Multiplication \n",
    "\n",
    "a = np.array([[1,2],[3,4]])\n",
    "b = np.array([[5,6],[7,8]])\n",
    "\n",
    "res = np.dot(a,b)\n",
    "print(res)"
   ]
  },
  {
   "cell_type": "markdown",
   "id": "d71dc7e9",
   "metadata": {},
   "source": [
    "## Diference between copy and View "
   ]
  },
  {
   "cell_type": "code",
   "execution_count": 21,
   "id": "f11a63ce",
   "metadata": {},
   "outputs": [
    {
     "name": "stdout",
     "output_type": "stream",
     "text": [
      "[456   2   3   4   5]\n",
      "[1 2 3]\n"
     ]
    }
   ],
   "source": [
    "# copy is a new array          \n",
    "\n",
    "\n",
    "arr_c = np.array([1,2,3,4,5])\n",
    "x = arr.copy()\n",
    "arr_c[0] = 456\n",
    "\n",
    "print(arr_c)\n",
    "print(x)"
   ]
  },
  {
   "cell_type": "code",
   "execution_count": 22,
   "id": "67e96786",
   "metadata": {},
   "outputs": [
    {
     "name": "stdout",
     "output_type": "stream",
     "text": [
      "[101010      2      3      4      5]\n",
      "[101010      2      3      4      5]\n"
     ]
    }
   ],
   "source": [
    " # and view is just view of orginal array\n",
    "\n",
    "arr_v = np.array([1,2,3,4,5])\n",
    "x = arr_v.view()\n",
    "arr_v[0] = 101010\n",
    "\n",
    "print(arr_v)\n",
    "print(x)                         # both will change"
   ]
  },
  {
   "cell_type": "code",
   "execution_count": 23,
   "id": "191070fc",
   "metadata": {},
   "outputs": [
    {
     "name": "stdout",
     "output_type": "stream",
     "text": [
      "1\n",
      "2\n",
      "3\n",
      "4\n",
      "5\n",
      "6\n",
      "7\n",
      "8\n",
      "9\n",
      "10\n",
      "11\n",
      "12\n"
     ]
    }
   ],
   "source": [
    "# Iterating a numpy array\n",
    "\n",
    "arr = np.array([[[1, 2, 3], [4, 5, 6]], [[7, 8, 9], [10, 11, 12]]])\n",
    "\n",
    "for x in arr.flat:            #normaly using 3 loop also we can do or use flat or nditer    for x in np.nditer(arr)           \n",
    "    print(x)"
   ]
  },
  {
   "cell_type": "markdown",
   "id": "36b341ae",
   "metadata": {},
   "source": [
    "## ARRAY JOINING"
   ]
  },
  {
   "cell_type": "code",
   "execution_count": 24,
   "id": "388673e3",
   "metadata": {},
   "outputs": [
    {
     "name": "stdout",
     "output_type": "stream",
     "text": [
      "[1 2 3 4 5 6]\n"
     ]
    }
   ],
   "source": [
    "arr1 = np.array([1,2,3])\n",
    "arr2 = np.array([4,5,6])\n",
    "\n",
    "narr = np.concatenate((arr1,arr2))\n",
    "print(narr)"
   ]
  },
  {
   "cell_type": "code",
   "execution_count": 25,
   "id": "1057f758",
   "metadata": {},
   "outputs": [
    {
     "name": "stdout",
     "output_type": "stream",
     "text": [
      "[[1 2]\n",
      " [3 4]\n",
      " [5 6]\n",
      " [7 8]]\n"
     ]
    }
   ],
   "source": [
    "arr3 = np.array([[1,2],[3,4]])\n",
    "arr4 = np.array([[5,6],[7,8]])\n",
    "\n",
    "n1arr = np.concatenate((arr3,arr4))\n",
    "print(n1arr)"
   ]
  },
  {
   "cell_type": "markdown",
   "id": "d947c4ec",
   "metadata": {},
   "source": [
    "## We can SPlit Arrays "
   ]
  },
  {
   "cell_type": "code",
   "execution_count": 26,
   "id": "89a3c18b",
   "metadata": {},
   "outputs": [
    {
     "name": "stdout",
     "output_type": "stream",
     "text": [
      "[array([1, 2]), array([3, 4]), array([5])]\n"
     ]
    }
   ],
   "source": [
    "aa = np.array([1,2,3,4,5])\n",
    "\n",
    "sp = np.array_split(aa,3)\n",
    "print(sp)\n"
   ]
  },
  {
   "cell_type": "markdown",
   "id": "ad386d2b",
   "metadata": {},
   "source": [
    "## Array Searching"
   ]
  },
  {
   "cell_type": "code",
   "execution_count": 27,
   "id": "6dae574e",
   "metadata": {},
   "outputs": [
    {
     "name": "stdout",
     "output_type": "stream",
     "text": [
      "find on index :  (array([2], dtype=int64),)\n"
     ]
    }
   ],
   "source": [
    "sr = np.array([1,2,3,4,5])\n",
    "\n",
    "x = np.where(sr==3)\n",
    "\n",
    "print(\"find on index : \",x)"
   ]
  },
  {
   "cell_type": "code",
   "execution_count": 28,
   "id": "d76618e4",
   "metadata": {},
   "outputs": [
    {
     "name": "stdout",
     "output_type": "stream",
     "text": [
      "(array([1, 3], dtype=int64),)\n"
     ]
    }
   ],
   "source": [
    "# To find even number index\n",
    "\n",
    "evn = np.where(sr % 2 ==0)\n",
    "print(evn)"
   ]
  },
  {
   "cell_type": "code",
   "execution_count": 29,
   "id": "13a6ff0e",
   "metadata": {},
   "outputs": [
    {
     "name": "stdout",
     "output_type": "stream",
     "text": [
      "2\n"
     ]
    }
   ],
   "source": [
    "# TO Perfrom Binary Search  in array  use --> searchsorted()\n",
    "\n",
    "arr = np.array([6, 7, 8, 9])\n",
    "\n",
    "kl = np.searchsorted(arr,8)\n",
    "print(kl)"
   ]
  },
  {
   "cell_type": "markdown",
   "id": "2a6db6a2",
   "metadata": {},
   "source": [
    "### Array Sorting"
   ]
  },
  {
   "cell_type": "code",
   "execution_count": 30,
   "id": "2eac63df",
   "metadata": {},
   "outputs": [
    {
     "name": "stdout",
     "output_type": "stream",
     "text": [
      "[[2 3 4]\n",
      " [0 1 5]]\n"
     ]
    }
   ],
   "source": [
    "arr = np.array([[3, 2, 4], [5, 0, 1]])\n",
    "\n",
    "n = np.sort(arr)\n",
    "print(n)"
   ]
  },
  {
   "cell_type": "markdown",
   "id": "848fd545",
   "metadata": {},
   "source": [
    "## Statical Operations using Numpy "
   ]
  },
  {
   "cell_type": "code",
   "execution_count": 32,
   "id": "cff1925b",
   "metadata": {},
   "outputs": [
    {
     "name": "stdout",
     "output_type": "stream",
     "text": [
      "Mean of the array : 3.5\n",
      "Median of the array : 3.5\n",
      "Sum of the array : 21\n",
      "STD of the array : 1.707825127659933\n",
      "Varience of the array : 2.9166666666666665\n"
     ]
    }
   ],
   "source": [
    "ap = np.array([1,2,3,4,5,6])\n",
    "\n",
    "print(\"Mean of the array :\",np.mean(ap))\n",
    "print(\"Median of the array :\",np.median(ap))\n",
    "print(\"Sum of the array :\",np.sum(ap))\n",
    "print(\"STD of the array :\",np.std(ap))\n",
    "print(\"Varience of the array :\",np.var(ap))"
   ]
  },
  {
   "cell_type": "code",
   "execution_count": 44,
   "id": "fb1834d8",
   "metadata": {},
   "outputs": [
    {
     "name": "stdout",
     "output_type": "stream",
     "text": [
      "[[ 5  6  2]\n",
      " [ 8  7  4]\n",
      " [ 1  7 11]]\n",
      "1\n",
      "11\n",
      "51\n"
     ]
    }
   ],
   "source": [
    "# A practical question\n",
    "\n",
    "array = np.random.randint(1,12,size=(3,3))\n",
    "print(array)\n",
    "print(np.min(array))\n",
    "print(np.max(array))\n",
    "print(np.sum(array))"
   ]
  },
  {
   "cell_type": "code",
   "execution_count": null,
   "id": "53e811be",
   "metadata": {},
   "outputs": [],
   "source": []
  }
 ],
 "metadata": {
  "kernelspec": {
   "display_name": "Python 3 (ipykernel)",
   "language": "python",
   "name": "python3"
  },
  "language_info": {
   "codemirror_mode": {
    "name": "ipython",
    "version": 3
   },
   "file_extension": ".py",
   "mimetype": "text/x-python",
   "name": "python",
   "nbconvert_exporter": "python",
   "pygments_lexer": "ipython3",
   "version": "3.11.5"
  }
 },
 "nbformat": 4,
 "nbformat_minor": 5
}
